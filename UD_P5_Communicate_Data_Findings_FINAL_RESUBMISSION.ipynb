{
 "cells": [
  {
   "cell_type": "markdown",
   "metadata": {},
   "source": [
    "<a id='home'></a>\n",
    "# Project 5: Communicate Data Findings\n",
    "\n",
    "\n",
    "### Table of Contents\n",
    "<ul>\n",
    "<li><a href=\"#intro\">0. Introduction</a></li>.\n",
    "    \n",
    "<li><a href=\"#Gathering\">1. GATHERING</a></li>\n",
    "<li><a href=\"#assessment\">2. ASSESSMENT</a></li>\n",
    "<li><a href=\"#Actions\"> i. Assessment Actions</a></li>.\n",
    "    \n",
    "<li><a href=\"#cleaning\">3. CLEANING</a></li>\n",
    "<li><a href=\"#C-QUALITY\">i. Quality</a></li>.\n",
    "    \n",
    "<li><a href=\"#analysing\"> 4. ANALYSING & VISUALISATION</a></li>\n",
    "<li><a href=\"#univariate\"> i. Univariate analysis</a></li>\n",
    "<li><a href=\"#bivariate\"> ii. Bivariate analysis</a></li>\n",
    "<li><a href=\"#multivariate\"> iii. Multivariate analysis</a></li>\n",
    "    \n",
    "</ul>"
   ]
  },
  {
   "cell_type": "markdown",
   "metadata": {},
   "source": [
    "<a id='intro'></a>\n",
    "### Introduction"
   ]
  },
  {
   "cell_type": "markdown",
   "metadata": {},
   "source": [
    "For this project I will be analysing what was formerly known as Ford GoBike bicycle sharing system data, this was rebranded to Bay Wheels in June 2019 after an acquisition by Lyft.\n",
    "\n",
    "The bikes are available for use 24 hours/day, 7 days/week, 365 days/year and riders have access to all bikes in the network when they become a member or purchase a pass."
   ]
  },
  {
   "cell_type": "markdown",
   "metadata": {},
   "source": [
    "**NOTE:** \n",
    "*At the time of starting this project the data from the Ford GoBike site had data up until August 2020 so all calculations are based on the fact that 2020 is not a full year.*\n"
   ]
  },
  {
   "cell_type": "markdown",
   "metadata": {},
   "source": [
    "<a id='wrangling'></a>\n",
    "## 1. DATA WRANGLING:  Gathering,  Assessing & Cleaning"
   ]
  },
  {
   "cell_type": "markdown",
   "metadata": {},
   "source": [
    "<a id='Gathering'></a>\n",
    "\n",
    "## <font color ='purple'> 1. Gathering >>>>>>>>>>>>>>>>>>>>>>>>>>>>>>>>>>>>>>>>>>>>>>>>>>>>>>>>>>"
   ]
  },
  {
   "cell_type": "code",
   "execution_count": 60,
   "metadata": {},
   "outputs": [],
   "source": [
    "# import relevant libraries into Jupyter Notebooks\n",
    "import numpy as np\n",
    "import pandas as pd\n",
    "import matplotlib.pyplot as plt\n",
    "import seaborn as sns\n",
    "import scipy as sp\n",
    "import time\n",
    "import datetime\n",
    "import haversine"
   ]
  },
  {
   "cell_type": "code",
   "execution_count": 2,
   "metadata": {},
   "outputs": [
    {
     "name": "stderr",
     "output_type": "stream",
     "text": [
      "C:\\Users\\byron\\anaconda3\\envs\\Bs_Data_Analytics\\lib\\site-packages\\IPython\\core\\interactiveshell.py:3343: DtypeWarning: Columns (14) have mixed types.Specify dtype option on import or set low_memory=False.\n",
      "  exec(code_obj, self.user_global_ns, self.user_ns)\n",
      "C:\\Users\\byron\\anaconda3\\envs\\Bs_Data_Analytics\\lib\\site-packages\\IPython\\core\\interactiveshell.py:3343: DtypeWarning: Columns (13,14) have mixed types.Specify dtype option on import or set low_memory=False.\n",
      "  exec(code_obj, self.user_global_ns, self.user_ns)\n",
      "C:\\Users\\byron\\anaconda3\\envs\\Bs_Data_Analytics\\lib\\site-packages\\IPython\\core\\interactiveshell.py:3343: DtypeWarning: Columns (13) have mixed types.Specify dtype option on import or set low_memory=False.\n",
      "  exec(code_obj, self.user_global_ns, self.user_ns)\n"
     ]
    },
    {
     "name": "stdout",
     "output_type": "stream",
     "text": [
      "(6483502, 25)\n"
     ]
    }
   ],
   "source": [
    "# gather ('read in') all 4 years monthly csv files\n",
    "df_Ford_Go_Bike_2017_2020_Master  = pd.concat(map(pd.read_csv, ['2017-fordgobike-tripdata.csv', '201801-fordgobike-tripdata.csv', '201802-fordgobike-tripdata.csv','201803-fordgobike-tripdata.csv',\n",
    "'201804-fordgobike-tripdata.csv', '201805-fordgobike-tripdata.csv', '201806-fordgobike-tripdata.csv', '201807-fordgobike-tripdata.csv', '201808-fordgobike-tripdata.csv', \n",
    "'201809-fordgobike-tripdata.csv', '201810-fordgobike-tripdata.csv', '201811-fordgobike-tripdata.csv', '201812-fordgobike-tripdata.csv', '201901-fordgobike-tripdata.csv', '201902-fordgobike-tripdata.csv','201903-fordgobike-tripdata.csv',\n",
    "'201904-fordgobike-tripdata.csv', '201905-fordgobike-tripdata.csv', '201906-fordgobike-tripdata.csv', '201907-fordgobike-tripdata.csv', '201908-fordgobike-tripdata.csv', \n",
    "'201909-fordgobike-tripdata.csv', '201910-fordgobike-tripdata.csv', '201911-fordgobike-tripdata.csv', '201912-fordgobike-tripdata.csv', '202001-fordgobike-tripdata.csv', '202002-fordgobike-tripdata.csv','202003-fordgobike-tripdata.csv',\n",
    "'202004-fordgobike-tripdata.csv', '202005-fordgobike-tripdata.csv', '202006-fordgobike-tripdata.csv', '202007-fordgobike-tripdata.csv', '202008-fordgobike-tripdata.csv']))\n",
    "print(df_Ford_Go_Bike_2017_2020_Master.shape)  "
   ]
  },
  {
   "cell_type": "code",
   "execution_count": 4,
   "metadata": {},
   "outputs": [
    {
     "data": {
      "text/html": [
       "<div>\n",
       "<style scoped>\n",
       "    .dataframe tbody tr th:only-of-type {\n",
       "        vertical-align: middle;\n",
       "    }\n",
       "\n",
       "    .dataframe tbody tr th {\n",
       "        vertical-align: top;\n",
       "    }\n",
       "\n",
       "    .dataframe thead th {\n",
       "        text-align: right;\n",
       "    }\n",
       "</style>\n",
       "<table border=\"1\" class=\"dataframe\">\n",
       "  <thead>\n",
       "    <tr style=\"text-align: right;\">\n",
       "      <th></th>\n",
       "      <th>duration_sec</th>\n",
       "      <th>start_time</th>\n",
       "      <th>end_time</th>\n",
       "      <th>start_station_id</th>\n",
       "      <th>start_station_name</th>\n",
       "      <th>start_station_latitude</th>\n",
       "      <th>start_station_longitude</th>\n",
       "      <th>end_station_id</th>\n",
       "      <th>end_station_name</th>\n",
       "      <th>end_station_latitude</th>\n",
       "      <th>...</th>\n",
       "      <th>ride_id</th>\n",
       "      <th>rideable_type</th>\n",
       "      <th>started_at</th>\n",
       "      <th>ended_at</th>\n",
       "      <th>start_lat</th>\n",
       "      <th>start_lng</th>\n",
       "      <th>end_lat</th>\n",
       "      <th>end_lng</th>\n",
       "      <th>member_casual</th>\n",
       "      <th>is_equity</th>\n",
       "    </tr>\n",
       "  </thead>\n",
       "  <tbody>\n",
       "    <tr>\n",
       "      <th>0</th>\n",
       "      <td>80110.0</td>\n",
       "      <td>2017-12-31 16:57:39.6540</td>\n",
       "      <td>2018-01-01 15:12:50.2450</td>\n",
       "      <td>74.0</td>\n",
       "      <td>Laguna St at Hayes St</td>\n",
       "      <td>37.776435</td>\n",
       "      <td>-122.426244</td>\n",
       "      <td>43.0</td>\n",
       "      <td>San Francisco Public Library (Grove St at Hyde...</td>\n",
       "      <td>37.778768</td>\n",
       "      <td>...</td>\n",
       "      <td>NaN</td>\n",
       "      <td>NaN</td>\n",
       "      <td>NaN</td>\n",
       "      <td>NaN</td>\n",
       "      <td>NaN</td>\n",
       "      <td>NaN</td>\n",
       "      <td>NaN</td>\n",
       "      <td>NaN</td>\n",
       "      <td>NaN</td>\n",
       "      <td>NaN</td>\n",
       "    </tr>\n",
       "    <tr>\n",
       "      <th>1</th>\n",
       "      <td>78800.0</td>\n",
       "      <td>2017-12-31 15:56:34.8420</td>\n",
       "      <td>2018-01-01 13:49:55.6170</td>\n",
       "      <td>284.0</td>\n",
       "      <td>Yerba Buena Center for the Arts (Howard St at ...</td>\n",
       "      <td>37.784872</td>\n",
       "      <td>-122.400876</td>\n",
       "      <td>96.0</td>\n",
       "      <td>Dolores St at 15th St</td>\n",
       "      <td>37.766210</td>\n",
       "      <td>...</td>\n",
       "      <td>NaN</td>\n",
       "      <td>NaN</td>\n",
       "      <td>NaN</td>\n",
       "      <td>NaN</td>\n",
       "      <td>NaN</td>\n",
       "      <td>NaN</td>\n",
       "      <td>NaN</td>\n",
       "      <td>NaN</td>\n",
       "      <td>NaN</td>\n",
       "      <td>NaN</td>\n",
       "    </tr>\n",
       "    <tr>\n",
       "      <th>2</th>\n",
       "      <td>45768.0</td>\n",
       "      <td>2017-12-31 22:45:48.4110</td>\n",
       "      <td>2018-01-01 11:28:36.8830</td>\n",
       "      <td>245.0</td>\n",
       "      <td>Downtown Berkeley BART</td>\n",
       "      <td>37.870348</td>\n",
       "      <td>-122.267764</td>\n",
       "      <td>245.0</td>\n",
       "      <td>Downtown Berkeley BART</td>\n",
       "      <td>37.870348</td>\n",
       "      <td>...</td>\n",
       "      <td>NaN</td>\n",
       "      <td>NaN</td>\n",
       "      <td>NaN</td>\n",
       "      <td>NaN</td>\n",
       "      <td>NaN</td>\n",
       "      <td>NaN</td>\n",
       "      <td>NaN</td>\n",
       "      <td>NaN</td>\n",
       "      <td>NaN</td>\n",
       "      <td>NaN</td>\n",
       "    </tr>\n",
       "  </tbody>\n",
       "</table>\n",
       "<p>3 rows × 25 columns</p>\n",
       "</div>"
      ],
      "text/plain": [
       "   duration_sec                start_time                  end_time  \\\n",
       "0       80110.0  2017-12-31 16:57:39.6540  2018-01-01 15:12:50.2450   \n",
       "1       78800.0  2017-12-31 15:56:34.8420  2018-01-01 13:49:55.6170   \n",
       "2       45768.0  2017-12-31 22:45:48.4110  2018-01-01 11:28:36.8830   \n",
       "\n",
       "   start_station_id                                 start_station_name  \\\n",
       "0              74.0                              Laguna St at Hayes St   \n",
       "1             284.0  Yerba Buena Center for the Arts (Howard St at ...   \n",
       "2             245.0                             Downtown Berkeley BART   \n",
       "\n",
       "   start_station_latitude  start_station_longitude  end_station_id  \\\n",
       "0               37.776435              -122.426244            43.0   \n",
       "1               37.784872              -122.400876            96.0   \n",
       "2               37.870348              -122.267764           245.0   \n",
       "\n",
       "                                    end_station_name  end_station_latitude  \\\n",
       "0  San Francisco Public Library (Grove St at Hyde...             37.778768   \n",
       "1                              Dolores St at 15th St             37.766210   \n",
       "2                             Downtown Berkeley BART             37.870348   \n",
       "\n",
       "   ...  ride_id  rideable_type started_at ended_at start_lat start_lng  \\\n",
       "0  ...      NaN            NaN        NaN      NaN       NaN       NaN   \n",
       "1  ...      NaN            NaN        NaN      NaN       NaN       NaN   \n",
       "2  ...      NaN            NaN        NaN      NaN       NaN       NaN   \n",
       "\n",
       "  end_lat end_lng member_casual  is_equity  \n",
       "0     NaN     NaN           NaN        NaN  \n",
       "1     NaN     NaN           NaN        NaN  \n",
       "2     NaN     NaN           NaN        NaN  \n",
       "\n",
       "[3 rows x 25 columns]"
      ]
     },
     "execution_count": 4,
     "metadata": {},
     "output_type": "execute_result"
    }
   ],
   "source": [
    "df_Ford_Go_Bike_2017_2020_Master.head(3)"
   ]
  },
  {
   "cell_type": "code",
   "execution_count": 5,
   "metadata": {},
   "outputs": [
    {
     "data": {
      "text/html": [
       "<div>\n",
       "<style scoped>\n",
       "    .dataframe tbody tr th:only-of-type {\n",
       "        vertical-align: middle;\n",
       "    }\n",
       "\n",
       "    .dataframe tbody tr th {\n",
       "        vertical-align: top;\n",
       "    }\n",
       "\n",
       "    .dataframe thead th {\n",
       "        text-align: right;\n",
       "    }\n",
       "</style>\n",
       "<table border=\"1\" class=\"dataframe\">\n",
       "  <thead>\n",
       "    <tr style=\"text-align: right;\">\n",
       "      <th></th>\n",
       "      <th>duration_sec</th>\n",
       "      <th>start_time</th>\n",
       "      <th>end_time</th>\n",
       "      <th>start_station_id</th>\n",
       "      <th>start_station_name</th>\n",
       "      <th>start_station_latitude</th>\n",
       "      <th>start_station_longitude</th>\n",
       "      <th>end_station_id</th>\n",
       "      <th>end_station_name</th>\n",
       "      <th>end_station_latitude</th>\n",
       "      <th>...</th>\n",
       "      <th>ride_id</th>\n",
       "      <th>rideable_type</th>\n",
       "      <th>started_at</th>\n",
       "      <th>ended_at</th>\n",
       "      <th>start_lat</th>\n",
       "      <th>start_lng</th>\n",
       "      <th>end_lat</th>\n",
       "      <th>end_lng</th>\n",
       "      <th>member_casual</th>\n",
       "      <th>is_equity</th>\n",
       "    </tr>\n",
       "  </thead>\n",
       "  <tbody>\n",
       "    <tr>\n",
       "      <th>152443</th>\n",
       "      <td>NaN</td>\n",
       "      <td>NaN</td>\n",
       "      <td>NaN</td>\n",
       "      <td>6.0</td>\n",
       "      <td>The Embarcadero at Sansome St</td>\n",
       "      <td>NaN</td>\n",
       "      <td>NaN</td>\n",
       "      <td>55.0</td>\n",
       "      <td>Webster St at Grove St</td>\n",
       "      <td>NaN</td>\n",
       "      <td>...</td>\n",
       "      <td>0A311A0C11734D12</td>\n",
       "      <td>docked_bike</td>\n",
       "      <td>2020-08-31 16:13:51</td>\n",
       "      <td>2020-08-31 16:39:26</td>\n",
       "      <td>37.804770</td>\n",
       "      <td>-122.403234</td>\n",
       "      <td>37.777053</td>\n",
       "      <td>-122.429558</td>\n",
       "      <td>casual</td>\n",
       "      <td>NaN</td>\n",
       "    </tr>\n",
       "    <tr>\n",
       "      <th>152444</th>\n",
       "      <td>NaN</td>\n",
       "      <td>NaN</td>\n",
       "      <td>NaN</td>\n",
       "      <td>193.0</td>\n",
       "      <td>Grand Ave at Santa Clara Ave</td>\n",
       "      <td>NaN</td>\n",
       "      <td>NaN</td>\n",
       "      <td>181.0</td>\n",
       "      <td>Grand Ave at Webster St</td>\n",
       "      <td>NaN</td>\n",
       "      <td>...</td>\n",
       "      <td>7BCDDF222BC26B8F</td>\n",
       "      <td>docked_bike</td>\n",
       "      <td>2020-08-01 15:04:57</td>\n",
       "      <td>2020-08-01 15:14:48</td>\n",
       "      <td>37.812744</td>\n",
       "      <td>-122.247215</td>\n",
       "      <td>37.811377</td>\n",
       "      <td>-122.265192</td>\n",
       "      <td>casual</td>\n",
       "      <td>NaN</td>\n",
       "    </tr>\n",
       "    <tr>\n",
       "      <th>152445</th>\n",
       "      <td>NaN</td>\n",
       "      <td>NaN</td>\n",
       "      <td>NaN</td>\n",
       "      <td>75.0</td>\n",
       "      <td>Market St at Franklin St</td>\n",
       "      <td>NaN</td>\n",
       "      <td>NaN</td>\n",
       "      <td>20.0</td>\n",
       "      <td>Mechanics Monument Plaza (Market St at Bush St)</td>\n",
       "      <td>NaN</td>\n",
       "      <td>...</td>\n",
       "      <td>5C55192D0B6734BA</td>\n",
       "      <td>docked_bike</td>\n",
       "      <td>2020-08-07 19:44:44</td>\n",
       "      <td>2020-08-07 20:06:49</td>\n",
       "      <td>37.773793</td>\n",
       "      <td>-122.421239</td>\n",
       "      <td>37.791300</td>\n",
       "      <td>-122.399051</td>\n",
       "      <td>casual</td>\n",
       "      <td>NaN</td>\n",
       "    </tr>\n",
       "  </tbody>\n",
       "</table>\n",
       "<p>3 rows × 25 columns</p>\n",
       "</div>"
      ],
      "text/plain": [
       "        duration_sec start_time end_time  start_station_id  \\\n",
       "152443           NaN        NaN      NaN               6.0   \n",
       "152444           NaN        NaN      NaN             193.0   \n",
       "152445           NaN        NaN      NaN              75.0   \n",
       "\n",
       "                   start_station_name  start_station_latitude  \\\n",
       "152443  The Embarcadero at Sansome St                     NaN   \n",
       "152444   Grand Ave at Santa Clara Ave                     NaN   \n",
       "152445       Market St at Franklin St                     NaN   \n",
       "\n",
       "        start_station_longitude  end_station_id  \\\n",
       "152443                      NaN            55.0   \n",
       "152444                      NaN           181.0   \n",
       "152445                      NaN            20.0   \n",
       "\n",
       "                                       end_station_name  end_station_latitude  \\\n",
       "152443                           Webster St at Grove St                   NaN   \n",
       "152444                          Grand Ave at Webster St                   NaN   \n",
       "152445  Mechanics Monument Plaza (Market St at Bush St)                   NaN   \n",
       "\n",
       "        ...           ride_id  rideable_type           started_at  \\\n",
       "152443  ...  0A311A0C11734D12    docked_bike  2020-08-31 16:13:51   \n",
       "152444  ...  7BCDDF222BC26B8F    docked_bike  2020-08-01 15:04:57   \n",
       "152445  ...  5C55192D0B6734BA    docked_bike  2020-08-07 19:44:44   \n",
       "\n",
       "                   ended_at  start_lat   start_lng    end_lat     end_lng  \\\n",
       "152443  2020-08-31 16:39:26  37.804770 -122.403234  37.777053 -122.429558   \n",
       "152444  2020-08-01 15:14:48  37.812744 -122.247215  37.811377 -122.265192   \n",
       "152445  2020-08-07 20:06:49  37.773793 -122.421239  37.791300 -122.399051   \n",
       "\n",
       "       member_casual  is_equity  \n",
       "152443        casual        NaN  \n",
       "152444        casual        NaN  \n",
       "152445        casual        NaN  \n",
       "\n",
       "[3 rows x 25 columns]"
      ]
     },
     "execution_count": 5,
     "metadata": {},
     "output_type": "execute_result"
    }
   ],
   "source": [
    "df_Ford_Go_Bike_2017_2020_Master.tail(3)"
   ]
  },
  {
   "cell_type": "markdown",
   "metadata": {},
   "source": [
    "<ul>\n",
    "<li><a href=\"#home\">Go to TOC </a></li>\n",
    "</ul>   "
   ]
  },
  {
   "cell_type": "markdown",
   "metadata": {},
   "source": [
    "<a id='assessment'></a>\n",
    "## <font color = 'purple'> 2. Assessment >>>>>>>>>>>>>>>>>>>>>>>>>>>>>>>>>>>>>>>>>>>>>>>>>>>>>>>>>>"
   ]
  },
  {
   "cell_type": "markdown",
   "metadata": {},
   "source": [
    "#### <font color='blue'> 1. BREAKDOWN OF DATA TYPES"
   ]
  },
  {
   "cell_type": "code",
   "execution_count": 3,
   "metadata": {},
   "outputs": [
    {
     "name": "stdout",
     "output_type": "stream",
     "text": [
      "<class 'pandas.core.frame.DataFrame'>\n",
      "Int64Index: 6483502 entries, 0 to 152445\n",
      "Data columns (total 25 columns):\n",
      " #   Column                   Dtype  \n",
      "---  ------                   -----  \n",
      " 0   duration_sec             float64\n",
      " 1   start_time               object \n",
      " 2   end_time                 object \n",
      " 3   start_station_id         float64\n",
      " 4   start_station_name       object \n",
      " 5   start_station_latitude   float64\n",
      " 6   start_station_longitude  float64\n",
      " 7   end_station_id           float64\n",
      " 8   end_station_name         object \n",
      " 9   end_station_latitude     float64\n",
      " 10  end_station_longitude    float64\n",
      " 11  bike_id                  float64\n",
      " 12  user_type                object \n",
      " 13  bike_share_for_all_trip  object \n",
      " 14  rental_access_method     object \n",
      " 15  ride_id                  object \n",
      " 16  rideable_type            object \n",
      " 17  started_at               object \n",
      " 18  ended_at                 object \n",
      " 19  start_lat                float64\n",
      " 20  start_lng                float64\n",
      " 21  end_lat                  float64\n",
      " 22  end_lng                  float64\n",
      " 23  member_casual            object \n",
      " 24  is_equity                object \n",
      "dtypes: float64(12), object(13)\n",
      "memory usage: 1.3+ GB\n"
     ]
    }
   ],
   "source": [
    "# 01 - returns breakdown of the data types within the dataset and any anomalies i.e. int, string, any null values)    \n",
    "df_Ford_Go_Bike_2017_2020_Master.info()"
   ]
  },
  {
   "cell_type": "markdown",
   "metadata": {},
   "source": [
    "***Observations:***\n",
    "* `Start_time` and `end_time` are objects \n",
    "* `user_type` is an object\n",
    "\n"
   ]
  },
  {
   "cell_type": "markdown",
   "metadata": {},
   "source": [
    "\n",
    "\n",
    "<ul>\n",
    "<li><a href=\"#home\">Go to TOC </a></li>\n",
    "</ul>    "
   ]
  },
  {
   "cell_type": "markdown",
   "metadata": {},
   "source": [
    "#### <font color='blue'> 2. UNIQUE VALUES OF DATA: 2017 - YT Aug 2020"
   ]
  },
  {
   "cell_type": "markdown",
   "metadata": {},
   "source": [
    "#### <font color ='green'> 2017"
   ]
  },
  {
   "cell_type": "code",
   "execution_count": 7,
   "metadata": {},
   "outputs": [
    {
     "data": {
      "text/plain": [
       "duration_sec                 25768\n",
       "start_time                 5733641\n",
       "end_time                   5733322\n",
       "start_station_id               481\n",
       "start_station_name             522\n",
       "start_station_latitude      319558\n",
       "start_station_longitude     339276\n",
       "end_station_id                 482\n",
       "end_station_name               523\n",
       "end_station_latitude        322439\n",
       "end_station_longitude       343148\n",
       "bike_id                      15996\n",
       "user_type                        2\n",
       "bike_share_for_all_trip          2\n",
       "rental_access_method             2\n",
       "ride_id                     688091\n",
       "rideable_type                    2\n",
       "started_at                  655929\n",
       "ended_at                    655000\n",
       "start_lat                    99776\n",
       "start_lng                   107482\n",
       "end_lat                     102917\n",
       "end_lng                     110785\n",
       "member_casual                    2\n",
       "is_equity                        2\n",
       "dtype: int64"
      ]
     },
     "execution_count": 7,
     "metadata": {},
     "output_type": "execute_result"
    }
   ],
   "source": [
    "# 02 - returns the number of unique values in each column \n",
    "df_Ford_Go_Bike_2017_2020_Master.nunique()"
   ]
  },
  {
   "cell_type": "markdown",
   "metadata": {},
   "source": [
    "***Observations:***\n",
    "* There is a mismatch in the number of unique entries e.g. `start_station_id` has 481 entries and `start_station_name` has 522, these should be the same\n",
    "* There are sim,iliar indifferences for several other columns"
   ]
  },
  {
   "cell_type": "markdown",
   "metadata": {},
   "source": [
    "\n",
    "\n",
    "<ul>\n",
    "<li><a href=\"#home\">Go to TOC </a></li>\n",
    "</ul>    "
   ]
  },
  {
   "cell_type": "markdown",
   "metadata": {},
   "source": [
    "#### <font color='blue'> 3. LIST OF ROWS WHERE DATA IS DUPLICATED: 2017 - YT Aug 2020"
   ]
  },
  {
   "cell_type": "code",
   "execution_count": 8,
   "metadata": {},
   "outputs": [
    {
     "name": "stdout",
     "output_type": "stream",
     "text": [
      "Duplicate rows = 7,512\n"
     ]
    }
   ],
   "source": [
    "# 3 - high-level overview of rows that are duplicated\n",
    "\n",
    "Master = sum(df_Ford_Go_Bike_2017_2020_Master.duplicated())\n",
    "print(\"Duplicate rows = {:,}\".format(Master))\n"
   ]
  },
  {
   "cell_type": "markdown",
   "metadata": {},
   "source": [
    "***Observations:***\n",
    "* There are 7,512 duplicate rows in the df"
   ]
  },
  {
   "cell_type": "markdown",
   "metadata": {},
   "source": [
    "\n",
    "\n",
    "<ul>\n",
    "<li><a href=\"#home\">Go to TOC </a></li>\n",
    "</ul>    "
   ]
  },
  {
   "cell_type": "markdown",
   "metadata": {},
   "source": [
    "#### <font color='blue'> 4. HIGH LEVEL OVERVIEW: ANY MISSING DATA: 2017 - YT Aug 2020"
   ]
  },
  {
   "cell_type": "code",
   "execution_count": 9,
   "metadata": {},
   "outputs": [
    {
     "name": "stdout",
     "output_type": "stream",
     "text": [
      "Missing Data = True\n"
     ]
    }
   ],
   "source": [
    "# 04 - returns True or False if there are any missing data  \n",
    "\n",
    "Master_Missing_Data = (df_Ford_Go_Bike_2017_2020_Master.isna().any().any())\n",
    "print(\"Missing Data = {}\".format(Master_Missing_Data))"
   ]
  },
  {
   "cell_type": "markdown",
   "metadata": {},
   "source": [
    "***Observations:***\n",
    "* There are missing entries in the df"
   ]
  },
  {
   "cell_type": "markdown",
   "metadata": {},
   "source": [
    "\n",
    "\n",
    "<ul>\n",
    "<li><a href=\"#home\">Go to TOC </a></li>\n",
    "</ul>    "
   ]
  },
  {
   "cell_type": "markdown",
   "metadata": {},
   "source": [
    "#### <font color='blue'> 5. HIGH LEVEL OVERVIEW: TOTAL SUM OF ANY MISSING DATA: 2017 - YT Aug 2020"
   ]
  },
  {
   "cell_type": "code",
   "execution_count": 10,
   "metadata": {},
   "outputs": [
    {
     "name": "stdout",
     "output_type": "stream",
     "text": [
      "Sum of missing details (null values)  = 76,102,320\n"
     ]
    }
   ],
   "source": [
    "# 05 - sums the total of missing data cells\n",
    "\n",
    "Sum_Missing_Data = df_Ford_Go_Bike_2017_2020_Master.isna().sum().sum()\n",
    "print(\"Sum of missing details (null values)  = {:,}\".format(Sum_Missing_Data))"
   ]
  },
  {
   "cell_type": "code",
   "execution_count": 11,
   "metadata": {},
   "outputs": [
    {
     "data": {
      "text/plain": [
       "duration_sec                688091\n",
       "start_time                  688091\n",
       "end_time                    688091\n",
       "start_station_id            820134\n",
       "start_station_name          818300\n",
       "start_station_latitude      688091\n",
       "start_station_longitude     688091\n",
       "end_station_id              833002\n",
       "end_station_name            831176\n",
       "end_station_latitude        688091\n",
       "end_station_longitude       688091\n",
       "bike_id                     688091\n",
       "user_type                   688091\n",
       "bike_share_for_all_trip    2356057\n",
       "rental_access_method       5744806\n",
       "ride_id                    5795411\n",
       "rideable_type              5795411\n",
       "started_at                 5795411\n",
       "ended_at                   5795411\n",
       "start_lat                  5795411\n",
       "start_lng                  5795411\n",
       "end_lat                    5796449\n",
       "end_lng                    5796449\n",
       "member_casual              5795411\n",
       "is_equity                  6345251\n",
       "dtype: int64"
      ]
     },
     "execution_count": 11,
     "metadata": {},
     "output_type": "execute_result"
    }
   ],
   "source": [
    "# returns all the sum of null values within each variable (column)\n",
    "df_Ford_Go_Bike_2017_2020_Master.isnull().sum()"
   ]
  },
  {
   "cell_type": "code",
   "execution_count": 14,
   "metadata": {},
   "outputs": [
    {
     "data": {
      "text/plain": [
       "duration_sec               5795411\n",
       "start_time                 5795411\n",
       "end_time                   5795411\n",
       "start_station_id           5663368\n",
       "start_station_name         5665202\n",
       "start_station_latitude     5795411\n",
       "start_station_longitude    5795411\n",
       "end_station_id             5650500\n",
       "end_station_name           5652326\n",
       "end_station_latitude       5795411\n",
       "end_station_longitude      5795411\n",
       "bike_id                    5795411\n",
       "user_type                  5795411\n",
       "bike_share_for_all_trip    4127445\n",
       "rental_access_method        738696\n",
       "ride_id                     688091\n",
       "rideable_type               688091\n",
       "started_at                  688091\n",
       "ended_at                    688091\n",
       "start_lat                   688091\n",
       "start_lng                   688091\n",
       "end_lat                     687053\n",
       "end_lng                     687053\n",
       "member_casual               688091\n",
       "is_equity                   138251\n",
       "dtype: int64"
      ]
     },
     "execution_count": 14,
     "metadata": {},
     "output_type": "execute_result"
    }
   ],
   "source": [
    "# checking the columns with NO null values\n",
    "not_null_columns=df_Ford_Go_Bike_2017_2020_Master.columns[df_Ford_Go_Bike_2017_2020_Master.notnull().any()]\n",
    "df_Ford_Go_Bike_2017_2020_Master[not_null_columns].notnull().sum()"
   ]
  },
  {
   "cell_type": "markdown",
   "metadata": {},
   "source": [
    "***Observations:***\n",
    "* There are over 76k missing entries in total\n",
    "* From  `bike_share_for_all_trip` to `is_equity` there are  there are less than 74k entires that are NOT null values, whereas from `duration_sec` to `user_type` there are over 560k\n",
    "*"
   ]
  },
  {
   "cell_type": "markdown",
   "metadata": {},
   "source": [
    "\n",
    "\n",
    "<ul>\n",
    "<li><a href=\"#home\">Go to TOC </a></li>\n",
    "</ul>    "
   ]
  },
  {
   "cell_type": "markdown",
   "metadata": {},
   "source": [
    "#### <font color='blue'> 6. STATISTICS SUMMARY"
   ]
  },
  {
   "cell_type": "code",
   "execution_count": 4,
   "metadata": {},
   "outputs": [
    {
     "data": {
      "text/html": [
       "<div>\n",
       "<style scoped>\n",
       "    .dataframe tbody tr th:only-of-type {\n",
       "        vertical-align: middle;\n",
       "    }\n",
       "\n",
       "    .dataframe tbody tr th {\n",
       "        vertical-align: top;\n",
       "    }\n",
       "\n",
       "    .dataframe thead th {\n",
       "        text-align: right;\n",
       "    }\n",
       "</style>\n",
       "<table border=\"1\" class=\"dataframe\">\n",
       "  <thead>\n",
       "    <tr style=\"text-align: right;\">\n",
       "      <th></th>\n",
       "      <th>duration_sec</th>\n",
       "      <th>start_station_id</th>\n",
       "      <th>start_station_latitude</th>\n",
       "      <th>start_station_longitude</th>\n",
       "      <th>end_station_id</th>\n",
       "      <th>end_station_latitude</th>\n",
       "      <th>end_station_longitude</th>\n",
       "      <th>bike_id</th>\n",
       "      <th>start_lat</th>\n",
       "      <th>start_lng</th>\n",
       "      <th>end_lat</th>\n",
       "      <th>end_lng</th>\n",
       "    </tr>\n",
       "  </thead>\n",
       "  <tbody>\n",
       "    <tr>\n",
       "      <th>count</th>\n",
       "      <td>5.795411e+06</td>\n",
       "      <td>5.663368e+06</td>\n",
       "      <td>5.795411e+06</td>\n",
       "      <td>5.795411e+06</td>\n",
       "      <td>5.650500e+06</td>\n",
       "      <td>5.795411e+06</td>\n",
       "      <td>5.795411e+06</td>\n",
       "      <td>5.795411e+06</td>\n",
       "      <td>688091.000000</td>\n",
       "      <td>688091.000000</td>\n",
       "      <td>687053.000000</td>\n",
       "      <td>687053.000000</td>\n",
       "    </tr>\n",
       "    <tr>\n",
       "      <th>mean</th>\n",
       "      <td>8.496090e+02</td>\n",
       "      <td>1.413310e+02</td>\n",
       "      <td>3.776353e+01</td>\n",
       "      <td>-1.223520e+02</td>\n",
       "      <td>1.380362e+02</td>\n",
       "      <td>3.776315e+01</td>\n",
       "      <td>-1.223497e+02</td>\n",
       "      <td>6.687199e+04</td>\n",
       "      <td>37.726157</td>\n",
       "      <td>-122.348618</td>\n",
       "      <td>37.726114</td>\n",
       "      <td>-122.346681</td>\n",
       "    </tr>\n",
       "    <tr>\n",
       "      <th>std</th>\n",
       "      <td>2.233872e+03</td>\n",
       "      <td>1.235947e+02</td>\n",
       "      <td>1.434050e-01</td>\n",
       "      <td>3.410302e-01</td>\n",
       "      <td>1.227563e+02</td>\n",
       "      <td>2.011897e-01</td>\n",
       "      <td>5.704336e-01</td>\n",
       "      <td>1.863825e+05</td>\n",
       "      <td>0.146684</td>\n",
       "      <td>0.176975</td>\n",
       "      <td>0.153650</td>\n",
       "      <td>0.449651</td>\n",
       "    </tr>\n",
       "    <tr>\n",
       "      <th>min</th>\n",
       "      <td>6.000000e+01</td>\n",
       "      <td>3.000000e+00</td>\n",
       "      <td>0.000000e+00</td>\n",
       "      <td>-1.225143e+02</td>\n",
       "      <td>3.000000e+00</td>\n",
       "      <td>0.000000e+00</td>\n",
       "      <td>-1.225758e+02</td>\n",
       "      <td>4.000000e+00</td>\n",
       "      <td>37.239200</td>\n",
       "      <td>-122.514300</td>\n",
       "      <td>0.000000</td>\n",
       "      <td>-122.559000</td>\n",
       "    </tr>\n",
       "    <tr>\n",
       "      <th>25%</th>\n",
       "      <td>3.600000e+02</td>\n",
       "      <td>4.300000e+01</td>\n",
       "      <td>3.776971e+01</td>\n",
       "      <td>-1.224136e+02</td>\n",
       "      <td>3.600000e+01</td>\n",
       "      <td>3.777003e+01</td>\n",
       "      <td>-1.224117e+02</td>\n",
       "      <td>1.640000e+03</td>\n",
       "      <td>37.760000</td>\n",
       "      <td>-122.432590</td>\n",
       "      <td>37.760000</td>\n",
       "      <td>-122.432400</td>\n",
       "    </tr>\n",
       "    <tr>\n",
       "      <th>50%</th>\n",
       "      <td>5.720000e+02</td>\n",
       "      <td>9.800000e+01</td>\n",
       "      <td>3.778053e+01</td>\n",
       "      <td>-1.223989e+02</td>\n",
       "      <td>9.600000e+01</td>\n",
       "      <td>3.778079e+01</td>\n",
       "      <td>-1.223984e+02</td>\n",
       "      <td>3.159000e+03</td>\n",
       "      <td>37.773600</td>\n",
       "      <td>-122.412083</td>\n",
       "      <td>37.773539</td>\n",
       "      <td>-122.412000</td>\n",
       "    </tr>\n",
       "    <tr>\n",
       "      <th>75%</th>\n",
       "      <td>8.930000e+02</td>\n",
       "      <td>2.230000e+02</td>\n",
       "      <td>3.779539e+01</td>\n",
       "      <td>-1.223881e+02</td>\n",
       "      <td>2.130000e+02</td>\n",
       "      <td>3.779539e+01</td>\n",
       "      <td>-1.223881e+02</td>\n",
       "      <td>9.600000e+03</td>\n",
       "      <td>37.787700</td>\n",
       "      <td>-122.390925</td>\n",
       "      <td>37.788100</td>\n",
       "      <td>-122.391000</td>\n",
       "    </tr>\n",
       "    <tr>\n",
       "      <th>max</th>\n",
       "      <td>9.121100e+05</td>\n",
       "      <td>5.380000e+02</td>\n",
       "      <td>4.551000e+01</td>\n",
       "      <td>0.000000e+00</td>\n",
       "      <td>5.380000e+02</td>\n",
       "      <td>4.551000e+01</td>\n",
       "      <td>0.000000e+00</td>\n",
       "      <td>9.999600e+05</td>\n",
       "      <td>37.880222</td>\n",
       "      <td>-121.770000</td>\n",
       "      <td>37.962100</td>\n",
       "      <td>0.000000</td>\n",
       "    </tr>\n",
       "  </tbody>\n",
       "</table>\n",
       "</div>"
      ],
      "text/plain": [
       "       duration_sec  start_station_id  start_station_latitude  \\\n",
       "count  5.795411e+06      5.663368e+06            5.795411e+06   \n",
       "mean   8.496090e+02      1.413310e+02            3.776353e+01   \n",
       "std    2.233872e+03      1.235947e+02            1.434050e-01   \n",
       "min    6.000000e+01      3.000000e+00            0.000000e+00   \n",
       "25%    3.600000e+02      4.300000e+01            3.776971e+01   \n",
       "50%    5.720000e+02      9.800000e+01            3.778053e+01   \n",
       "75%    8.930000e+02      2.230000e+02            3.779539e+01   \n",
       "max    9.121100e+05      5.380000e+02            4.551000e+01   \n",
       "\n",
       "       start_station_longitude  end_station_id  end_station_latitude  \\\n",
       "count             5.795411e+06    5.650500e+06          5.795411e+06   \n",
       "mean             -1.223520e+02    1.380362e+02          3.776315e+01   \n",
       "std               3.410302e-01    1.227563e+02          2.011897e-01   \n",
       "min              -1.225143e+02    3.000000e+00          0.000000e+00   \n",
       "25%              -1.224136e+02    3.600000e+01          3.777003e+01   \n",
       "50%              -1.223989e+02    9.600000e+01          3.778079e+01   \n",
       "75%              -1.223881e+02    2.130000e+02          3.779539e+01   \n",
       "max               0.000000e+00    5.380000e+02          4.551000e+01   \n",
       "\n",
       "       end_station_longitude       bike_id      start_lat      start_lng  \\\n",
       "count           5.795411e+06  5.795411e+06  688091.000000  688091.000000   \n",
       "mean           -1.223497e+02  6.687199e+04      37.726157    -122.348618   \n",
       "std             5.704336e-01  1.863825e+05       0.146684       0.176975   \n",
       "min            -1.225758e+02  4.000000e+00      37.239200    -122.514300   \n",
       "25%            -1.224117e+02  1.640000e+03      37.760000    -122.432590   \n",
       "50%            -1.223984e+02  3.159000e+03      37.773600    -122.412083   \n",
       "75%            -1.223881e+02  9.600000e+03      37.787700    -122.390925   \n",
       "max             0.000000e+00  9.999600e+05      37.880222    -121.770000   \n",
       "\n",
       "             end_lat        end_lng  \n",
       "count  687053.000000  687053.000000  \n",
       "mean       37.726114    -122.346681  \n",
       "std         0.153650       0.449651  \n",
       "min         0.000000    -122.559000  \n",
       "25%        37.760000    -122.432400  \n",
       "50%        37.773539    -122.412000  \n",
       "75%        37.788100    -122.391000  \n",
       "max        37.962100       0.000000  "
      ]
     },
     "execution_count": 4,
     "metadata": {},
     "output_type": "execute_result"
    }
   ],
   "source": [
    "# 06 - returns statistics data summary (describes full breakdown of data into\n",
    "# count, mean, Std Dev, percentile etc)\n",
    "df_Ford_Go_Bike_2017_2020_Master.describe()"
   ]
  },
  {
   "cell_type": "markdown",
   "metadata": {},
   "source": [
    "\n",
    "\n",
    "<ul>\n",
    "<li><a href=\"#home\">Go to TOC </a></li>\n",
    "</ul>    "
   ]
  },
  {
   "cell_type": "markdown",
   "metadata": {},
   "source": [
    "<a id='Actions'></a>\n",
    " ## <font color='green'>Initial Assessment Actions"
   ]
  },
  {
   "cell_type": "markdown",
   "metadata": {},
   "source": [
    "\n",
    "> #### <font color='green'> Quality *(Completeness, Validity, Accuracy & Consistency)*\n",
    "#### Based on my oberservations of the inital dataset I intend to complete the following actions: \n",
    "1. Convert `start_time` and `end_time` from objects to ***datetime*** type \n",
    "* Remove the variables that are not required based on them having too many missing entries\n",
    "* Remove all nulls from the df "
   ]
  },
  {
   "cell_type": "markdown",
   "metadata": {},
   "source": [
    "> #### <font color='green'> Tidiness *(Structural)*\n",
    "**Note:** I found no structural elements with all four datasets that need addressing\n",
    "    \n",
    "\n",
    "\n",
    "\n"
   ]
  },
  {
   "cell_type": "markdown",
   "metadata": {},
   "source": [
    "<ul>\n",
    "<li><a href=\"#home\">Go to TOC </a></li>\n",
    "</ul>   "
   ]
  },
  {
   "cell_type": "markdown",
   "metadata": {},
   "source": [
    "<a id='cleaning'></a>\n",
    "## <font color = 'purple'> 3. Cleaning >>>>>>>>>>>>>>>>>>>>>>>>>>>>>>>>>>>>>>>>>>>>>>>>>>>>>>>>>>>>>>"
   ]
  },
  {
   "cell_type": "code",
   "execution_count": 35,
   "metadata": {},
   "outputs": [],
   "source": [
    "# import relevant libraries just for Cleaning phase\n",
    "import numpy as np\n",
    "import pandas as pd\n",
    "import matplotlib.pyplot as plt\n",
    "import seaborn as sns\n",
    "import datetime\n",
    "from numpy import cos, sin, arcsin, sqrt\n",
    "from math import radians"
   ]
  },
  {
   "cell_type": "markdown",
   "metadata": {},
   "source": [
    "<font color='orange'> ***Create new version for reference***"
   ]
  },
  {
   "cell_type": "code",
   "execution_count": 36,
   "metadata": {},
   "outputs": [],
   "source": [
    "# create a 'clean' copy of the df \n",
    "df_Ford_Go_Bike_2017_2020_Master_CLEAN = df_Ford_Go_Bike_2017_2020_Master.copy()"
   ]
  },
  {
   "cell_type": "markdown",
   "metadata": {},
   "source": [
    "<a id='C-QUALITY'></a>\n",
    "#### <font color ='blue'> **QUALITY ACTIONS**\n"
   ]
  },
  {
   "cell_type": "markdown",
   "metadata": {},
   "source": [
    "**ACTION 1.** ============================================================================================================="
   ]
  },
  {
   "cell_type": "markdown",
   "metadata": {},
   "source": [
    "#### <font color='green'> Define\n"
   ]
  },
  {
   "cell_type": "markdown",
   "metadata": {},
   "source": [
    "Convert `start_time` and `end_time` from objects to ***datetime*** type "
   ]
  },
  {
   "cell_type": "markdown",
   "metadata": {},
   "source": [
    "#### `start_time`"
   ]
  },
  {
   "cell_type": "markdown",
   "metadata": {},
   "source": [
    "> #### <font color='green'> Code"
   ]
  },
  {
   "cell_type": "code",
   "execution_count": 37,
   "metadata": {},
   "outputs": [
    {
     "name": "stdout",
     "output_type": "stream",
     "text": [
      "The history saving thread hit an unexpected error (OperationalError('disk I/O error')).History will not be written to the database.\n"
     ]
    }
   ],
   "source": [
    "# converts [start_time] to datetime type \n",
    "df_Ford_Go_Bike_2017_2020_Master_CLEAN.start_time = pd.to_datetime(df_Ford_Go_Bike_2017_2020_Master_CLEAN.start_time)"
   ]
  },
  {
   "cell_type": "markdown",
   "metadata": {},
   "source": [
    "> #### <font color='green'> Test"
   ]
  },
  {
   "cell_type": "code",
   "execution_count": 38,
   "metadata": {},
   "outputs": [
    {
     "data": {
      "text/plain": [
       "duration_sec                      float64\n",
       "start_time                 datetime64[ns]\n",
       "end_time                           object\n",
       "start_station_id                  float64\n",
       "start_station_name                 object\n",
       "start_station_latitude            float64\n",
       "start_station_longitude           float64\n",
       "end_station_id                    float64\n",
       "end_station_name                   object\n",
       "end_station_latitude              float64\n",
       "end_station_longitude             float64\n",
       "bike_id                           float64\n",
       "user_type                          object\n",
       "bike_share_for_all_trip            object\n",
       "rental_access_method               object\n",
       "ride_id                            object\n",
       "rideable_type                      object\n",
       "started_at                         object\n",
       "ended_at                           object\n",
       "start_lat                         float64\n",
       "start_lng                         float64\n",
       "end_lat                           float64\n",
       "end_lng                           float64\n",
       "member_casual                      object\n",
       "is_equity                          object\n",
       "dtype: object"
      ]
     },
     "execution_count": 38,
     "metadata": {},
     "output_type": "execute_result"
    }
   ],
   "source": [
    "# should return datetime dtype for [start_time] \n",
    "df_Ford_Go_Bike_2017_2020_Master_CLEAN.dtypes"
   ]
  },
  {
   "cell_type": "markdown",
   "metadata": {},
   "source": [
    "#### `end_time`"
   ]
  },
  {
   "cell_type": "markdown",
   "metadata": {},
   "source": [
    "> #### <font color='green'> Code"
   ]
  },
  {
   "cell_type": "code",
   "execution_count": 39,
   "metadata": {},
   "outputs": [],
   "source": [
    "# converts [end_time] to datetime type \n",
    "df_Ford_Go_Bike_2017_2020_Master_CLEAN.end_time = pd.to_datetime(df_Ford_Go_Bike_2017_2020_Master_CLEAN.end_time)"
   ]
  },
  {
   "cell_type": "markdown",
   "metadata": {},
   "source": [
    "> #### <font color='green'> Test"
   ]
  },
  {
   "cell_type": "code",
   "execution_count": 40,
   "metadata": {},
   "outputs": [
    {
     "data": {
      "text/plain": [
       "duration_sec                      float64\n",
       "start_time                 datetime64[ns]\n",
       "end_time                   datetime64[ns]\n",
       "start_station_id                  float64\n",
       "start_station_name                 object\n",
       "start_station_latitude            float64\n",
       "start_station_longitude           float64\n",
       "end_station_id                    float64\n",
       "end_station_name                   object\n",
       "end_station_latitude              float64\n",
       "end_station_longitude             float64\n",
       "bike_id                           float64\n",
       "user_type                          object\n",
       "bike_share_for_all_trip            object\n",
       "rental_access_method               object\n",
       "ride_id                            object\n",
       "rideable_type                      object\n",
       "started_at                         object\n",
       "ended_at                           object\n",
       "start_lat                         float64\n",
       "start_lng                         float64\n",
       "end_lat                           float64\n",
       "end_lng                           float64\n",
       "member_casual                      object\n",
       "is_equity                          object\n",
       "dtype: object"
      ]
     },
     "execution_count": 40,
     "metadata": {},
     "output_type": "execute_result"
    }
   ],
   "source": [
    "# should return datetime dtype for [end_time] \n",
    "df_Ford_Go_Bike_2017_2020_Master_CLEAN.dtypes"
   ]
  },
  {
   "cell_type": "markdown",
   "metadata": {},
   "source": [
    "**<font color ='blue'>Action 1. completed:** Both `start_time` and `end_time` columns have been converted to datetime types\n"
   ]
  },
  {
   "cell_type": "markdown",
   "metadata": {},
   "source": [
    "<li><a  href=\"#Actions\">Go to Actions List</a></li>"
   ]
  },
  {
   "cell_type": "markdown",
   "metadata": {},
   "source": [
    "<ul>\n",
    "<li><a href=\"#home\">Go to TOC </a></li>\n",
    "</ul>   "
   ]
  },
  {
   "cell_type": "markdown",
   "metadata": {},
   "source": [
    "<font color='orange'> ***Create new version for reference***"
   ]
  },
  {
   "cell_type": "code",
   "execution_count": 41,
   "metadata": {},
   "outputs": [],
   "source": [
    "# create a 'clean' copy of the df \n",
    "df_Ford_Go_Bike_2017_2020_Master_CLEAN_v2 = df_Ford_Go_Bike_2017_2020_Master_CLEAN.copy()"
   ]
  },
  {
   "cell_type": "markdown",
   "metadata": {},
   "source": [
    "**ACTION 2.** ============================================================================================================="
   ]
  },
  {
   "cell_type": "markdown",
   "metadata": {},
   "source": [
    "#### <font color='green'> Define\n"
   ]
  },
  {
   "cell_type": "markdown",
   "metadata": {},
   "source": [
    "Remove the variables that are not required based on them having too many missing entries\n",
    "`bike_share_for_all_trip`, `rental_access_method`, `ride_id`, `rideable_type`, `started_at`, `ended_at`, `start_lat`, `start_lng`, `end_lat`, `end_lng`, `member_casual`, `is_equity`                                    "
   ]
  },
  {
   "cell_type": "markdown",
   "metadata": {},
   "source": [
    "#### <font color='green'> Code"
   ]
  },
  {
   "cell_type": "code",
   "execution_count": 42,
   "metadata": {},
   "outputs": [],
   "source": [
    "# Removes columns from ID 13 onwards \n",
    "df_Ford_Go_Bike_2017_2020_Master_CLEAN_v2 = df_Ford_Go_Bike_2017_2020_Master_CLEAN_v2.drop(['bike_share_for_all_trip','rental_access_method', 'ride_id', 'rideable_type'\n",
    ", 'started_at', 'ended_at', 'start_lat', 'start_lng', 'end_lat', 'end_lng', 'member_casual', 'is_equity'],axis=1)"
   ]
  },
  {
   "cell_type": "markdown",
   "metadata": {},
   "source": [
    "#### <font color='green'> Test"
   ]
  },
  {
   "cell_type": "code",
   "execution_count": 43,
   "metadata": {},
   "outputs": [
    {
     "name": "stdout",
     "output_type": "stream",
     "text": [
      "<class 'pandas.core.frame.DataFrame'>\n",
      "Int64Index: 6483502 entries, 0 to 152445\n",
      "Data columns (total 13 columns):\n",
      " #   Column                   Dtype         \n",
      "---  ------                   -----         \n",
      " 0   duration_sec             float64       \n",
      " 1   start_time               datetime64[ns]\n",
      " 2   end_time                 datetime64[ns]\n",
      " 3   start_station_id         float64       \n",
      " 4   start_station_name       object        \n",
      " 5   start_station_latitude   float64       \n",
      " 6   start_station_longitude  float64       \n",
      " 7   end_station_id           float64       \n",
      " 8   end_station_name         object        \n",
      " 9   end_station_latitude     float64       \n",
      " 10  end_station_longitude    float64       \n",
      " 11  bike_id                  float64       \n",
      " 12  user_type                object        \n",
      "dtypes: datetime64[ns](2), float64(8), object(3)\n",
      "memory usage: 692.5+ MB\n"
     ]
    }
   ],
   "source": [
    "df_Ford_Go_Bike_2017_2020_Master_CLEAN_v2.info()"
   ]
  },
  {
   "cell_type": "markdown",
   "metadata": {},
   "source": [
    "**<font color ='blue'>Action 2. completed:** All the not required columns have been removed\n"
   ]
  },
  {
   "cell_type": "markdown",
   "metadata": {},
   "source": [
    "<li><a  href=\"#Actions\">Go to Actions List</a></li>"
   ]
  },
  {
   "cell_type": "markdown",
   "metadata": {},
   "source": [
    "<ul>\n",
    "<li><a href=\"#home\">Go to TOC </a></li>\n",
    "</ul>   "
   ]
  },
  {
   "cell_type": "markdown",
   "metadata": {},
   "source": [
    "<font color='orange'> ***Create new version for reference***"
   ]
  },
  {
   "cell_type": "code",
   "execution_count": 44,
   "metadata": {},
   "outputs": [],
   "source": [
    "# create a 'clean' copy of the df \n",
    "df_Ford_Go_Bike_2017_2020_Master_CLEAN_v3 = df_Ford_Go_Bike_2017_2020_Master_CLEAN_v2.copy()"
   ]
  },
  {
   "cell_type": "markdown",
   "metadata": {},
   "source": [
    "**ACTION 3.** ============================================================================================================="
   ]
  },
  {
   "cell_type": "markdown",
   "metadata": {},
   "source": [
    "#### <font color='green'> Define"
   ]
  },
  {
   "cell_type": "markdown",
   "metadata": {},
   "source": [
    "Remove all nulls from the df"
   ]
  },
  {
   "cell_type": "code",
   "execution_count": 45,
   "metadata": {},
   "outputs": [
    {
     "name": "stdout",
     "output_type": "stream",
     "text": [
      "Number of null values in df = 9,495,431\n"
     ]
    }
   ],
   "source": [
    "# check how many null values in df\n",
    "Master_Null_Data = df_Ford_Go_Bike_2017_2020_Master_CLEAN_v3.isna().sum().sum()\n",
    "print(\"Number of null values in df = {:,}\".format(Master_Null_Data))"
   ]
  },
  {
   "cell_type": "markdown",
   "metadata": {},
   "source": [
    "#### <font color='green'> Code"
   ]
  },
  {
   "cell_type": "code",
   "execution_count": 46,
   "metadata": {},
   "outputs": [],
   "source": [
    "# removes all null vales in any row\n",
    "df_Ford_Go_Bike_2017_2020_Master_CLEAN_v3 = df_Ford_Go_Bike_2017_2020_Master_CLEAN_v3.dropna(how='any',axis=0) "
   ]
  },
  {
   "cell_type": "markdown",
   "metadata": {},
   "source": [
    "#### <font color='green'> Test"
   ]
  },
  {
   "cell_type": "code",
   "execution_count": 47,
   "metadata": {},
   "outputs": [
    {
     "data": {
      "text/plain": [
       "False"
      ]
     },
     "execution_count": 47,
     "metadata": {},
     "output_type": "execute_result"
    }
   ],
   "source": [
    "# should return False is there are no null values in df\n",
    "df_Ford_Go_Bike_2017_2020_Master_CLEAN_v3.isnull().any().any()"
   ]
  },
  {
   "cell_type": "code",
   "execution_count": 48,
   "metadata": {},
   "outputs": [
    {
     "name": "stdout",
     "output_type": "stream",
     "text": [
      "Number of null values in df = 0\n"
     ]
    }
   ],
   "source": [
    "# final check to confirm df has no null values\n",
    "Master_Null_Data = df_Ford_Go_Bike_2017_2020_Master_CLEAN_v3.isna().sum().sum()\n",
    "print(\"Number of null values in df = {:,}\".format(Master_Null_Data))"
   ]
  },
  {
   "cell_type": "markdown",
   "metadata": {},
   "source": [
    "**<font color ='blue'>Action 3. completed:** all nulls have been removed from the df"
   ]
  },
  {
   "cell_type": "markdown",
   "metadata": {},
   "source": [
    "<font color='orange'> ***Create new version for reference***"
   ]
  },
  {
   "cell_type": "code",
   "execution_count": 49,
   "metadata": {},
   "outputs": [],
   "source": [
    "# create a 'clean' copy of the df \n",
    "df_Ford_Go_Bike_2017_2020_Master_CLEAN_v4 = df_Ford_Go_Bike_2017_2020_Master_CLEAN_v3.copy()"
   ]
  },
  {
   "cell_type": "markdown",
   "metadata": {},
   "source": [
    "<li><a  href=\"#Actions\">Go to Actions List</a></li>"
   ]
  },
  {
   "cell_type": "markdown",
   "metadata": {},
   "source": [
    "<ul>\n",
    "<li><a href=\"#home\">Go to TOC </a></li>\n",
    "</ul>   "
   ]
  },
  {
   "cell_type": "markdown",
   "metadata": {},
   "source": [
    "### <font color =\"blue\"> Additional Actions (AA)"
   ]
  },
  {
   "cell_type": "markdown",
   "metadata": {},
   "source": [
    "The following additional actions are to facilitate the ploting of charts, graphs etc for the visualisation of the data."
   ]
  },
  {
   "cell_type": "markdown",
   "metadata": {},
   "source": [
    "#### <font color='green'> Define - AA.1\n",
    "   "
   ]
  },
  {
   "cell_type": "markdown",
   "metadata": {},
   "source": [
    "Create additional columns for **min**, **hour**, **day of week**, **month** and **year**.  This will enable enhanced functionality to filter the data and aid in plotting visuals."
   ]
  },
  {
   "cell_type": "markdown",
   "metadata": {},
   "source": [
    "#### <font color='green'> Code"
   ]
  },
  {
   "cell_type": "code",
   "execution_count": 50,
   "metadata": {},
   "outputs": [],
   "source": [
    "# creates additional min, hour, week, month and year columns from the [start_time_ variable]\n",
    "df_Ford_Go_Bike_2017_2020_Master_CLEAN_v4['duration_min'] = df_Ford_Go_Bike_2017_2020_Master_CLEAN_v4['duration_sec']/60\n",
    "df_Ford_Go_Bike_2017_2020_Master_CLEAN_v4['start_hour'] = df_Ford_Go_Bike_2017_2020_Master_CLEAN_v4['start_time'].dt.hour\n",
    "df_Ford_Go_Bike_2017_2020_Master_CLEAN_v4['start_day_of_week'] = df_Ford_Go_Bike_2017_2020_Master_CLEAN_v4['start_time'].dt.strftime('%a')\n",
    "df_Ford_Go_Bike_2017_2020_Master_CLEAN_v4['start_month'] = df_Ford_Go_Bike_2017_2020_Master_CLEAN_v4['start_time'].dt.strftime('%B')\n",
    "df_Ford_Go_Bike_2017_2020_Master_CLEAN_v4['year'] = df_Ford_Go_Bike_2017_2020_Master_CLEAN_v4['start_time'].dt.strftime('%Y')"
   ]
  },
  {
   "cell_type": "markdown",
   "metadata": {},
   "source": [
    "#### <font color='green'> Test"
   ]
  },
  {
   "cell_type": "code",
   "execution_count": 51,
   "metadata": {},
   "outputs": [
    {
     "name": "stdout",
     "output_type": "stream",
     "text": [
      "<class 'pandas.core.frame.DataFrame'>\n",
      "Int64Index: 5124358 entries, 0 to 174729\n",
      "Data columns (total 18 columns):\n",
      " #   Column                   Dtype         \n",
      "---  ------                   -----         \n",
      " 0   duration_sec             float64       \n",
      " 1   start_time               datetime64[ns]\n",
      " 2   end_time                 datetime64[ns]\n",
      " 3   start_station_id         float64       \n",
      " 4   start_station_name       object        \n",
      " 5   start_station_latitude   float64       \n",
      " 6   start_station_longitude  float64       \n",
      " 7   end_station_id           float64       \n",
      " 8   end_station_name         object        \n",
      " 9   end_station_latitude     float64       \n",
      " 10  end_station_longitude    float64       \n",
      " 11  bike_id                  float64       \n",
      " 12  user_type                object        \n",
      " 13  duration_min             float64       \n",
      " 14  start_hour               int64         \n",
      " 15  start_day_of_week        object        \n",
      " 16  start_month              object        \n",
      " 17  year                     object        \n",
      "dtypes: datetime64[ns](2), float64(9), int64(1), object(6)\n",
      "memory usage: 742.8+ MB\n"
     ]
    }
   ],
   "source": [
    "# returns additional time and date variables\n",
    "df_Ford_Go_Bike_2017_2020_Master_CLEAN_v4.info()"
   ]
  },
  {
   "cell_type": "markdown",
   "metadata": {},
   "source": [
    "**<font color ='blue'>Action AA.1. completed:** New columns for  **minute**, **hour**, **day of week**, **month** and **year** has been created on the `start_time` variable"
   ]
  },
  {
   "cell_type": "markdown",
   "metadata": {},
   "source": [
    "<li><a  href=\"#Actions\">Go to Actions List</a></li>"
   ]
  },
  {
   "cell_type": "markdown",
   "metadata": {},
   "source": [
    "<ul>\n",
    "<li><a href=\"#home\">Go to TOC </a></li>\n",
    "</ul>   "
   ]
  },
  {
   "cell_type": "markdown",
   "metadata": {},
   "source": [
    "#### <font color='green'> Define - AA.2\n",
    "   "
   ]
  },
  {
   "cell_type": "markdown",
   "metadata": {},
   "source": [
    "In order to utilise the longitude and latitude columns I will create an additional column for `distance_km`, this would make it easier to calculate distances between stations."
   ]
  },
  {
   "cell_type": "markdown",
   "metadata": {},
   "source": [
    "#### <font color='green'> Code"
   ]
  },
  {
   "cell_type": "code",
   "execution_count": 63,
   "metadata": {},
   "outputs": [],
   "source": [
    "# Calculating distance using vectorized operations (far quicker)\n",
    "# source: https://stackoverflow.com/questions/25767596/vectorised-haversine-formula-with-a-pandas-dataframe\n",
    "\n",
    "def haversine(lon1, lat1, lon2, lat2):\n",
    "    '''Vectorized Distance Function\n",
    "    inputs: lon/lat pair of origin\n",
    "            lon/lat pair of destination\n",
    "    output: distance, in km, between locations'''\n",
    "    \n",
    "    lon1, lat1, lon2, lat2=map(np.radians, [lon1, lat1, lon2, lat2])\n",
    "    dlon = lon2 - lon1 \n",
    "    dlat = lat2 - lat1\n",
    "    a = np.sin(dlat/2)**2 + np.cos(lat1) * np.cos(lat2) * np.sin(dlon/2)**2\n",
    "    c = 2 * np.arcsin(np.sqrt(a))\n",
    "    km = 6367 * c\n",
    "    return km\n",
    "    \n",
    "# create distancevariable, i.e. call distance function on pairs of lon/lat geocoordinates\n",
    "df_Ford_Go_Bike_2017_2020_Master_CLEAN_v4['distance_km'] = haversine(df_Ford_Go_Bike_2017_2020_Master_CLEAN_v4['start_station_longitude'],\n",
    "                                    df_Ford_Go_Bike_2017_2020_Master_CLEAN_v4['start_station_latitude'],\n",
    "                                    df_Ford_Go_Bike_2017_2020_Master_CLEAN_v4['end_station_longitude'],     \n",
    "                                    df_Ford_Go_Bike_2017_2020_Master_CLEAN_v4['end_station_latitude'])\n"
   ]
  },
  {
   "cell_type": "markdown",
   "metadata": {},
   "source": [
    "#### <font color='green'> Test"
   ]
  },
  {
   "cell_type": "code",
   "execution_count": 64,
   "metadata": {},
   "outputs": [
    {
     "name": "stdout",
     "output_type": "stream",
     "text": [
      "<class 'pandas.core.frame.DataFrame'>\n",
      "Int64Index: 5124358 entries, 0 to 174729\n",
      "Data columns (total 19 columns):\n",
      " #   Column                   Dtype         \n",
      "---  ------                   -----         \n",
      " 0   duration_sec             float64       \n",
      " 1   start_time               datetime64[ns]\n",
      " 2   end_time                 datetime64[ns]\n",
      " 3   start_station_id         float64       \n",
      " 4   start_station_name       object        \n",
      " 5   start_station_latitude   float64       \n",
      " 6   start_station_longitude  float64       \n",
      " 7   end_station_id           float64       \n",
      " 8   end_station_name         object        \n",
      " 9   end_station_latitude     float64       \n",
      " 10  end_station_longitude    float64       \n",
      " 11  bike_id                  float64       \n",
      " 12  user_type                object        \n",
      " 13  duration_min             float64       \n",
      " 14  start_hour               int64         \n",
      " 15  start_day_of_week        object        \n",
      " 16  start_month              object        \n",
      " 17  year                     object        \n",
      " 18  distance_km              float64       \n",
      "dtypes: datetime64[ns](2), float64(10), int64(1), object(6)\n",
      "memory usage: 781.9+ MB\n"
     ]
    }
   ],
   "source": [
    "# returns newly created column for [distance_km] variable\n",
    "df_Ford_Go_Bike_2017_2020_Master_CLEAN_v4.info()"
   ]
  },
  {
   "cell_type": "markdown",
   "metadata": {},
   "source": [
    "**<font color ='blue'>Action AA.2 completed:** A `distance_km` column has been created"
   ]
  },
  {
   "cell_type": "markdown",
   "metadata": {},
   "source": [
    "<li><a  href=\"#Actions\">Go to Actions List</a></li>"
   ]
  },
  {
   "cell_type": "markdown",
   "metadata": {},
   "source": [
    "<ul>\n",
    "<li><a href=\"#home\">Go to TOC </a></li>\n",
    "</ul>   "
   ]
  },
  {
   "cell_type": "code",
   "execution_count": 65,
   "metadata": {},
   "outputs": [
    {
     "name": "stdout",
     "output_type": "stream",
     "text": [
      "<class 'pandas.core.frame.DataFrame'>\n",
      "Int64Index: 5124358 entries, 0 to 174729\n",
      "Data columns (total 19 columns):\n",
      " #   Column                   Dtype         \n",
      "---  ------                   -----         \n",
      " 0   duration_sec             float64       \n",
      " 1   start_time               datetime64[ns]\n",
      " 2   end_time                 datetime64[ns]\n",
      " 3   start_station_id         float64       \n",
      " 4   start_station_name       object        \n",
      " 5   start_station_latitude   float64       \n",
      " 6   start_station_longitude  float64       \n",
      " 7   end_station_id           float64       \n",
      " 8   end_station_name         object        \n",
      " 9   end_station_latitude     float64       \n",
      " 10  end_station_longitude    float64       \n",
      " 11  bike_id                  float64       \n",
      " 12  user_type                object        \n",
      " 13  duration_min             float64       \n",
      " 14  start_hour               int64         \n",
      " 15  start_day_of_week        object        \n",
      " 16  start_month              object        \n",
      " 17  year                     object        \n",
      " 18  distance_km              float64       \n",
      "dtypes: datetime64[ns](2), float64(10), int64(1), object(6)\n",
      "memory usage: 781.9+ MB\n"
     ]
    }
   ],
   "source": [
    "# check additional columns have been created\n",
    "df_Ford_Go_Bike_2017_2020_Master_CLEAN_v4.info()"
   ]
  },
  {
   "cell_type": "markdown",
   "metadata": {},
   "source": [
    "#### <font color='green'> Define  AA.3\n",
    "   "
   ]
  },
  {
   "cell_type": "markdown",
   "metadata": {},
   "source": [
    "Convert ID columns [12] & [14] - [17] from object to *categorical* types"
   ]
  },
  {
   "cell_type": "markdown",
   "metadata": {},
   "source": [
    "#### <font color='green'> Code"
   ]
  },
  {
   "cell_type": "code",
   "execution_count": 66,
   "metadata": {},
   "outputs": [],
   "source": [
    "# converts variables [user_type], [start_hour], [start_week], [start_month] & [year] to categorical type \n",
    "df_Ford_Go_Bike_2017_2020_Master_CLEAN_v4['user_type']=df_Ford_Go_Bike_2017_2020_Master_CLEAN_v4['user_type'].astype('category')\n",
    "df_Ford_Go_Bike_2017_2020_Master_CLEAN_v4['start_hour']=df_Ford_Go_Bike_2017_2020_Master_CLEAN_v4['start_hour'].astype('category')\n",
    "df_Ford_Go_Bike_2017_2020_Master_CLEAN_v4['start_day_of_week']=df_Ford_Go_Bike_2017_2020_Master_CLEAN_v4['start_day_of_week'].astype('category')\n",
    "df_Ford_Go_Bike_2017_2020_Master_CLEAN_v4['start_month']=df_Ford_Go_Bike_2017_2020_Master_CLEAN_v4['start_month'].astype('category')\n",
    "df_Ford_Go_Bike_2017_2020_Master_CLEAN_v4['year']=df_Ford_Go_Bike_2017_2020_Master_CLEAN_v4['year'].astype('category')"
   ]
  },
  {
   "cell_type": "markdown",
   "metadata": {},
   "source": [
    "#### <font color='green'> Test"
   ]
  },
  {
   "cell_type": "code",
   "execution_count": 67,
   "metadata": {},
   "outputs": [
    {
     "data": {
      "text/plain": [
       "duration_sec                      float64\n",
       "start_time                 datetime64[ns]\n",
       "end_time                   datetime64[ns]\n",
       "start_station_id                  float64\n",
       "start_station_name                 object\n",
       "start_station_latitude            float64\n",
       "start_station_longitude           float64\n",
       "end_station_id                    float64\n",
       "end_station_name                   object\n",
       "end_station_latitude              float64\n",
       "end_station_longitude             float64\n",
       "bike_id                           float64\n",
       "user_type                        category\n",
       "duration_min                      float64\n",
       "start_hour                       category\n",
       "start_day_of_week                category\n",
       "start_month                      category\n",
       "year                             category\n",
       "distance_km                       float64\n",
       "dtype: object"
      ]
     },
     "execution_count": 67,
     "metadata": {},
     "output_type": "execute_result"
    }
   ],
   "source": [
    "# returns categorical types for ID columns [12] & [14] - [17] \n",
    "df_Ford_Go_Bike_2017_2020_Master_CLEAN_v4.dtypes"
   ]
  },
  {
   "cell_type": "markdown",
   "metadata": {},
   "source": [
    "**<font color ='blue'>Action AA.3. completed:** Columns [12] & [14] - [17] have been converted from object to *categorical* types"
   ]
  },
  {
   "cell_type": "markdown",
   "metadata": {},
   "source": [
    "<li><a  href=\"#Actions\">Go to Actions List</a></li>"
   ]
  },
  {
   "cell_type": "markdown",
   "metadata": {},
   "source": [
    "<ul>\n",
    "<li><a href=\"#home\">Go to TOC </a></li>\n",
    "</ul>   "
   ]
  },
  {
   "cell_type": "code",
   "execution_count": 68,
   "metadata": {},
   "outputs": [
    {
     "name": "stdout",
     "output_type": "stream",
     "text": [
      "Number of null values in df = 0\n"
     ]
    }
   ],
   "source": [
    "# final check if any null values in df before create new version\n",
    "Master_Null_Data = df_Ford_Go_Bike_2017_2020_Master_CLEAN_v4.isna().sum().sum()\n",
    "print(\"Number of null values in df = {:,}\".format(Master_Null_Data))"
   ]
  },
  {
   "cell_type": "markdown",
   "metadata": {},
   "source": [
    "<font color='orange'> ***Create new version for reference***"
   ]
  },
  {
   "cell_type": "code",
   "execution_count": 69,
   "metadata": {},
   "outputs": [],
   "source": [
    "# create a 'clean' copy of the df \n",
    "df_Ford_Go_Bike_2017_2020_Master_CLEAN_v5 = df_Ford_Go_Bike_2017_2020_Master_CLEAN_v4.copy()"
   ]
  },
  {
   "cell_type": "markdown",
   "metadata": {},
   "source": [
    "<a id='analysing'></a>\n",
    "## <font color ='purple'> 4. Analysis & Visualisation >>>>>>>>>>>>>>>>>>>>>>>>>>>>>>>>>>>"
   ]
  },
  {
   "cell_type": "markdown",
   "metadata": {},
   "source": [
    "#### <font color='green'> Structure of  dataset\n",
    "\n",
    "> After cleaning the dataset the amened dataframe contains **5,124,358** entries and **18** columns, originally there was 6,483,502 and 24 columns.\n",
    "\n",
    "> The structure is as follows:\n",
    "1.    **duration_sec** - *Trip Duration (seconds)*       \n",
    "*    **start_time** - *Start Time and Date\n",
    "*   **end_time** - End Time and Date\n",
    "*   **start_station_id** - Start Station ID    \n",
    "*   **start_station_name** - Start Station Name        \n",
    "*   **start_station_latitude** - Start Station Latitude       \n",
    "*   **start_station_longitude** - Start Station Longitude        \n",
    "*   **end_station_id** - End station ID                  \n",
    "*   **end_station_name** - End station Name             \n",
    "*   **end_station_latitude** - End station Latitude          \n",
    "*  **end_station_longitude** - End station Longitude        \n",
    "*  **bike_id** - Bike ID                      \n",
    "*  **user_type** - User Type (Customer or Subscriber)                     \n",
    "*  **duration_min** - Trip Duration (mins)                  \n",
    "*  **start_hour** - Start Time by Hour                       \n",
    "*  **start_day_of_week** - Start Day of the Week             \n",
    "*  **start_month** - Start Month                   \n",
    "*  **year** - Year of Trip                         \n",
    "*  **distance_km** - Distance (km)                  \n"
   ]
  },
  {
   "cell_type": "markdown",
   "metadata": {},
   "source": [
    "#### <font color='green'> Main feature(s) of interest in dataset?\n",
    "\n",
    "> The main features of interest are:\n",
    "  * timings of the rides\n",
    "  * how far users travel  \n",
    "  * locations\n",
    "  * types of users\n"
   ]
  },
  {
   "cell_type": "markdown",
   "metadata": {},
   "source": [
    "#### <font color='green'> Features in the dataset that will help support  investigation into  feature(s) of interest?\n",
    "\n",
    "> 1. Duration (mins)\n",
    "* Distance\n",
    "* Start Hour\n",
    "* Start Month\n",
    "* Year\n",
    "* User Type\n",
    "* Start and End Stations"
   ]
  },
  {
   "cell_type": "markdown",
   "metadata": {},
   "source": [
    "### <font color ='blue'> Exploratory Analysis"
   ]
  },
  {
   "cell_type": "code",
   "execution_count": 38,
   "metadata": {},
   "outputs": [
    {
     "data": {
      "text/html": [
       "<div>\n",
       "<style scoped>\n",
       "    .dataframe tbody tr th:only-of-type {\n",
       "        vertical-align: middle;\n",
       "    }\n",
       "\n",
       "    .dataframe tbody tr th {\n",
       "        vertical-align: top;\n",
       "    }\n",
       "\n",
       "    .dataframe thead th {\n",
       "        text-align: right;\n",
       "    }\n",
       "</style>\n",
       "<table border=\"1\" class=\"dataframe\">\n",
       "  <thead>\n",
       "    <tr style=\"text-align: right;\">\n",
       "      <th></th>\n",
       "      <th>duration_sec</th>\n",
       "      <th>start_station_id</th>\n",
       "      <th>start_station_latitude</th>\n",
       "      <th>start_station_longitude</th>\n",
       "      <th>end_station_id</th>\n",
       "      <th>end_station_latitude</th>\n",
       "      <th>end_station_longitude</th>\n",
       "      <th>bike_id</th>\n",
       "      <th>duration_min</th>\n",
       "      <th>distance_km</th>\n",
       "    </tr>\n",
       "  </thead>\n",
       "  <tbody>\n",
       "    <tr>\n",
       "      <th>count</th>\n",
       "      <td>5.124358e+06</td>\n",
       "      <td>5.124358e+06</td>\n",
       "      <td>5.124358e+06</td>\n",
       "      <td>5.124358e+06</td>\n",
       "      <td>5.124358e+06</td>\n",
       "      <td>5.124358e+06</td>\n",
       "      <td>5.124358e+06</td>\n",
       "      <td>5.124358e+06</td>\n",
       "      <td>5.124358e+06</td>\n",
       "      <td>5.124358e+06</td>\n",
       "    </tr>\n",
       "    <tr>\n",
       "      <th>mean</th>\n",
       "      <td>8.538768e+02</td>\n",
       "      <td>1.334690e+02</td>\n",
       "      <td>3.777004e+01</td>\n",
       "      <td>-1.223551e+02</td>\n",
       "      <td>1.304309e+02</td>\n",
       "      <td>3.776949e+01</td>\n",
       "      <td>-1.223521e+02</td>\n",
       "      <td>1.159440e+04</td>\n",
       "      <td>1.423128e+01</td>\n",
       "      <td>1.895664e+00</td>\n",
       "    </tr>\n",
       "    <tr>\n",
       "      <th>std</th>\n",
       "      <td>2.273826e+03</td>\n",
       "      <td>1.149394e+02</td>\n",
       "      <td>9.969579e-02</td>\n",
       "      <td>1.382182e-01</td>\n",
       "      <td>1.142143e+02</td>\n",
       "      <td>1.921373e-01</td>\n",
       "      <td>5.498473e-01</td>\n",
       "      <td>6.865985e+04</td>\n",
       "      <td>3.789710e+01</td>\n",
       "      <td>5.628132e+01</td>\n",
       "    </tr>\n",
       "    <tr>\n",
       "      <th>min</th>\n",
       "      <td>6.000000e+01</td>\n",
       "      <td>3.000000e+00</td>\n",
       "      <td>0.000000e+00</td>\n",
       "      <td>-1.225091e+02</td>\n",
       "      <td>3.000000e+00</td>\n",
       "      <td>0.000000e+00</td>\n",
       "      <td>-1.225091e+02</td>\n",
       "      <td>4.000000e+00</td>\n",
       "      <td>1.000000e+00</td>\n",
       "      <td>0.000000e+00</td>\n",
       "    </tr>\n",
       "    <tr>\n",
       "      <th>25%</th>\n",
       "      <td>3.580000e+02</td>\n",
       "      <td>3.900000e+01</td>\n",
       "      <td>3.777041e+01</td>\n",
       "      <td>-1.224119e+02</td>\n",
       "      <td>3.300000e+01</td>\n",
       "      <td>3.777106e+01</td>\n",
       "      <td>-1.224113e+02</td>\n",
       "      <td>1.465000e+03</td>\n",
       "      <td>5.966667e+00</td>\n",
       "      <td>8.999319e-01</td>\n",
       "    </tr>\n",
       "    <tr>\n",
       "      <th>50%</th>\n",
       "      <td>5.670000e+02</td>\n",
       "      <td>9.500000e+01</td>\n",
       "      <td>3.778101e+01</td>\n",
       "      <td>-1.223983e+02</td>\n",
       "      <td>9.200000e+01</td>\n",
       "      <td>3.778107e+01</td>\n",
       "      <td>-1.223974e+02</td>\n",
       "      <td>2.826000e+03</td>\n",
       "      <td>9.450000e+00</td>\n",
       "      <td>1.412757e+00</td>\n",
       "    </tr>\n",
       "    <tr>\n",
       "      <th>75%</th>\n",
       "      <td>8.850000e+02</td>\n",
       "      <td>2.060000e+02</td>\n",
       "      <td>3.779581e+01</td>\n",
       "      <td>-1.222948e+02</td>\n",
       "      <td>2.000000e+02</td>\n",
       "      <td>3.779639e+01</td>\n",
       "      <td>-1.222948e+02</td>\n",
       "      <td>5.001000e+03</td>\n",
       "      <td>1.475000e+01</td>\n",
       "      <td>2.167595e+00</td>\n",
       "    </tr>\n",
       "    <tr>\n",
       "      <th>max</th>\n",
       "      <td>8.636900e+04</td>\n",
       "      <td>5.210000e+02</td>\n",
       "      <td>4.551000e+01</td>\n",
       "      <td>0.000000e+00</td>\n",
       "      <td>5.210000e+02</td>\n",
       "      <td>4.551000e+01</td>\n",
       "      <td>0.000000e+00</td>\n",
       "      <td>9.989160e+05</td>\n",
       "      <td>1.439483e+03</td>\n",
       "      <td>1.280989e+04</td>\n",
       "    </tr>\n",
       "  </tbody>\n",
       "</table>\n",
       "</div>"
      ],
      "text/plain": [
       "       duration_sec  start_station_id  start_station_latitude  \\\n",
       "count  5.124358e+06      5.124358e+06            5.124358e+06   \n",
       "mean   8.538768e+02      1.334690e+02            3.777004e+01   \n",
       "std    2.273826e+03      1.149394e+02            9.969579e-02   \n",
       "min    6.000000e+01      3.000000e+00            0.000000e+00   \n",
       "25%    3.580000e+02      3.900000e+01            3.777041e+01   \n",
       "50%    5.670000e+02      9.500000e+01            3.778101e+01   \n",
       "75%    8.850000e+02      2.060000e+02            3.779581e+01   \n",
       "max    8.636900e+04      5.210000e+02            4.551000e+01   \n",
       "\n",
       "       start_station_longitude  end_station_id  end_station_latitude  \\\n",
       "count             5.124358e+06    5.124358e+06          5.124358e+06   \n",
       "mean             -1.223551e+02    1.304309e+02          3.776949e+01   \n",
       "std               1.382182e-01    1.142143e+02          1.921373e-01   \n",
       "min              -1.225091e+02    3.000000e+00          0.000000e+00   \n",
       "25%              -1.224119e+02    3.300000e+01          3.777106e+01   \n",
       "50%              -1.223983e+02    9.200000e+01          3.778107e+01   \n",
       "75%              -1.222948e+02    2.000000e+02          3.779639e+01   \n",
       "max               0.000000e+00    5.210000e+02          4.551000e+01   \n",
       "\n",
       "       end_station_longitude       bike_id  duration_min   distance_km  \n",
       "count           5.124358e+06  5.124358e+06  5.124358e+06  5.124358e+06  \n",
       "mean           -1.223521e+02  1.159440e+04  1.423128e+01  1.895664e+00  \n",
       "std             5.498473e-01  6.865985e+04  3.789710e+01  5.628132e+01  \n",
       "min            -1.225091e+02  4.000000e+00  1.000000e+00  0.000000e+00  \n",
       "25%            -1.224113e+02  1.465000e+03  5.966667e+00  8.999319e-01  \n",
       "50%            -1.223974e+02  2.826000e+03  9.450000e+00  1.412757e+00  \n",
       "75%            -1.222948e+02  5.001000e+03  1.475000e+01  2.167595e+00  \n",
       "max             0.000000e+00  9.989160e+05  1.439483e+03  1.280989e+04  "
      ]
     },
     "execution_count": 38,
     "metadata": {},
     "output_type": "execute_result"
    }
   ],
   "source": [
    "# returns summary stats based on final df\n",
    "df_Ford_Go_Bike_2017_2020_Master_CLEAN_v5.describe()"
   ]
  },
  {
   "cell_type": "markdown",
   "metadata": {},
   "source": [
    "<ul>\n",
    "<li><a href=\"#home\">Go to TOC </a></li>\n",
    "</ul>   "
   ]
  },
  {
   "cell_type": "markdown",
   "metadata": {},
   "source": [
    "<a id='univariate'></a>\n",
    "### <font color =\"purple\"> UNIVARIATE EXPLORATION"
   ]
  },
  {
   "cell_type": "markdown",
   "metadata": {},
   "source": [
    "**Hourly breakdown of Bike Hires**"
   ]
  },
  {
   "cell_type": "code",
   "execution_count": 79,
   "metadata": {},
   "outputs": [
    {
     "data": {
      "text/plain": [
       "5124358"
      ]
     },
     "execution_count": 79,
     "metadata": {},
     "output_type": "execute_result"
    }
   ],
   "source": [
    "# returns total hours of bike hires\n",
    "df_Ford_Go_Bike_2017_2020_Master_CLEAN_v5.start_hour.count()"
   ]
  },
  {
   "cell_type": "code",
   "execution_count": 39,
   "metadata": {
    "scrolled": true
   },
   "outputs": [
    {
     "data": {
      "text/html": [
       "<div>\n",
       "<style scoped>\n",
       "    .dataframe tbody tr th:only-of-type {\n",
       "        vertical-align: middle;\n",
       "    }\n",
       "\n",
       "    .dataframe tbody tr th {\n",
       "        vertical-align: top;\n",
       "    }\n",
       "\n",
       "    .dataframe thead th {\n",
       "        text-align: right;\n",
       "    }\n",
       "</style>\n",
       "<table border=\"1\" class=\"dataframe\">\n",
       "  <thead>\n",
       "    <tr style=\"text-align: right;\">\n",
       "      <th></th>\n",
       "      <th>duration_sec</th>\n",
       "      <th>start_time</th>\n",
       "      <th>end_time</th>\n",
       "      <th>start_station_id</th>\n",
       "      <th>start_station_name</th>\n",
       "      <th>start_station_latitude</th>\n",
       "      <th>start_station_longitude</th>\n",
       "      <th>end_station_id</th>\n",
       "      <th>end_station_name</th>\n",
       "      <th>end_station_latitude</th>\n",
       "      <th>end_station_longitude</th>\n",
       "      <th>bike_id</th>\n",
       "      <th>user_type</th>\n",
       "      <th>duration_min</th>\n",
       "      <th>start_day_of_week</th>\n",
       "      <th>start_month</th>\n",
       "      <th>year</th>\n",
       "      <th>distance_km</th>\n",
       "    </tr>\n",
       "    <tr>\n",
       "      <th>start_hour</th>\n",
       "      <th></th>\n",
       "      <th></th>\n",
       "      <th></th>\n",
       "      <th></th>\n",
       "      <th></th>\n",
       "      <th></th>\n",
       "      <th></th>\n",
       "      <th></th>\n",
       "      <th></th>\n",
       "      <th></th>\n",
       "      <th></th>\n",
       "      <th></th>\n",
       "      <th></th>\n",
       "      <th></th>\n",
       "      <th></th>\n",
       "      <th></th>\n",
       "      <th></th>\n",
       "      <th></th>\n",
       "    </tr>\n",
       "  </thead>\n",
       "  <tbody>\n",
       "    <tr>\n",
       "      <th>0</th>\n",
       "      <td>28357</td>\n",
       "      <td>28357</td>\n",
       "      <td>28357</td>\n",
       "      <td>28357</td>\n",
       "      <td>28357</td>\n",
       "      <td>28357</td>\n",
       "      <td>28357</td>\n",
       "      <td>28357</td>\n",
       "      <td>28357</td>\n",
       "      <td>28357</td>\n",
       "      <td>28357</td>\n",
       "      <td>28357</td>\n",
       "      <td>28357</td>\n",
       "      <td>28357</td>\n",
       "      <td>28357</td>\n",
       "      <td>28357</td>\n",
       "      <td>28357</td>\n",
       "      <td>28357</td>\n",
       "    </tr>\n",
       "    <tr>\n",
       "      <th>1</th>\n",
       "      <td>16441</td>\n",
       "      <td>16441</td>\n",
       "      <td>16441</td>\n",
       "      <td>16441</td>\n",
       "      <td>16441</td>\n",
       "      <td>16441</td>\n",
       "      <td>16441</td>\n",
       "      <td>16441</td>\n",
       "      <td>16441</td>\n",
       "      <td>16441</td>\n",
       "      <td>16441</td>\n",
       "      <td>16441</td>\n",
       "      <td>16441</td>\n",
       "      <td>16441</td>\n",
       "      <td>16441</td>\n",
       "      <td>16441</td>\n",
       "      <td>16441</td>\n",
       "      <td>16441</td>\n",
       "    </tr>\n",
       "    <tr>\n",
       "      <th>2</th>\n",
       "      <td>10467</td>\n",
       "      <td>10467</td>\n",
       "      <td>10467</td>\n",
       "      <td>10467</td>\n",
       "      <td>10467</td>\n",
       "      <td>10467</td>\n",
       "      <td>10467</td>\n",
       "      <td>10467</td>\n",
       "      <td>10467</td>\n",
       "      <td>10467</td>\n",
       "      <td>10467</td>\n",
       "      <td>10467</td>\n",
       "      <td>10467</td>\n",
       "      <td>10467</td>\n",
       "      <td>10467</td>\n",
       "      <td>10467</td>\n",
       "      <td>10467</td>\n",
       "      <td>10467</td>\n",
       "    </tr>\n",
       "    <tr>\n",
       "      <th>3</th>\n",
       "      <td>5363</td>\n",
       "      <td>5363</td>\n",
       "      <td>5363</td>\n",
       "      <td>5363</td>\n",
       "      <td>5363</td>\n",
       "      <td>5363</td>\n",
       "      <td>5363</td>\n",
       "      <td>5363</td>\n",
       "      <td>5363</td>\n",
       "      <td>5363</td>\n",
       "      <td>5363</td>\n",
       "      <td>5363</td>\n",
       "      <td>5363</td>\n",
       "      <td>5363</td>\n",
       "      <td>5363</td>\n",
       "      <td>5363</td>\n",
       "      <td>5363</td>\n",
       "      <td>5363</td>\n",
       "    </tr>\n",
       "    <tr>\n",
       "      <th>4</th>\n",
       "      <td>7131</td>\n",
       "      <td>7131</td>\n",
       "      <td>7131</td>\n",
       "      <td>7131</td>\n",
       "      <td>7131</td>\n",
       "      <td>7131</td>\n",
       "      <td>7131</td>\n",
       "      <td>7131</td>\n",
       "      <td>7131</td>\n",
       "      <td>7131</td>\n",
       "      <td>7131</td>\n",
       "      <td>7131</td>\n",
       "      <td>7131</td>\n",
       "      <td>7131</td>\n",
       "      <td>7131</td>\n",
       "      <td>7131</td>\n",
       "      <td>7131</td>\n",
       "      <td>7131</td>\n",
       "    </tr>\n",
       "    <tr>\n",
       "      <th>5</th>\n",
       "      <td>26820</td>\n",
       "      <td>26820</td>\n",
       "      <td>26820</td>\n",
       "      <td>26820</td>\n",
       "      <td>26820</td>\n",
       "      <td>26820</td>\n",
       "      <td>26820</td>\n",
       "      <td>26820</td>\n",
       "      <td>26820</td>\n",
       "      <td>26820</td>\n",
       "      <td>26820</td>\n",
       "      <td>26820</td>\n",
       "      <td>26820</td>\n",
       "      <td>26820</td>\n",
       "      <td>26820</td>\n",
       "      <td>26820</td>\n",
       "      <td>26820</td>\n",
       "      <td>26820</td>\n",
       "    </tr>\n",
       "    <tr>\n",
       "      <th>6</th>\n",
       "      <td>103563</td>\n",
       "      <td>103563</td>\n",
       "      <td>103563</td>\n",
       "      <td>103563</td>\n",
       "      <td>103563</td>\n",
       "      <td>103563</td>\n",
       "      <td>103563</td>\n",
       "      <td>103563</td>\n",
       "      <td>103563</td>\n",
       "      <td>103563</td>\n",
       "      <td>103563</td>\n",
       "      <td>103563</td>\n",
       "      <td>103563</td>\n",
       "      <td>103563</td>\n",
       "      <td>103563</td>\n",
       "      <td>103563</td>\n",
       "      <td>103563</td>\n",
       "      <td>103563</td>\n",
       "    </tr>\n",
       "    <tr>\n",
       "      <th>7</th>\n",
       "      <td>284480</td>\n",
       "      <td>284480</td>\n",
       "      <td>284480</td>\n",
       "      <td>284480</td>\n",
       "      <td>284480</td>\n",
       "      <td>284480</td>\n",
       "      <td>284480</td>\n",
       "      <td>284480</td>\n",
       "      <td>284480</td>\n",
       "      <td>284480</td>\n",
       "      <td>284480</td>\n",
       "      <td>284480</td>\n",
       "      <td>284480</td>\n",
       "      <td>284480</td>\n",
       "      <td>284480</td>\n",
       "      <td>284480</td>\n",
       "      <td>284480</td>\n",
       "      <td>284480</td>\n",
       "    </tr>\n",
       "    <tr>\n",
       "      <th>8</th>\n",
       "      <td>575912</td>\n",
       "      <td>575912</td>\n",
       "      <td>575912</td>\n",
       "      <td>575912</td>\n",
       "      <td>575912</td>\n",
       "      <td>575912</td>\n",
       "      <td>575912</td>\n",
       "      <td>575912</td>\n",
       "      <td>575912</td>\n",
       "      <td>575912</td>\n",
       "      <td>575912</td>\n",
       "      <td>575912</td>\n",
       "      <td>575912</td>\n",
       "      <td>575912</td>\n",
       "      <td>575912</td>\n",
       "      <td>575912</td>\n",
       "      <td>575912</td>\n",
       "      <td>575912</td>\n",
       "    </tr>\n",
       "    <tr>\n",
       "      <th>9</th>\n",
       "      <td>445578</td>\n",
       "      <td>445578</td>\n",
       "      <td>445578</td>\n",
       "      <td>445578</td>\n",
       "      <td>445578</td>\n",
       "      <td>445578</td>\n",
       "      <td>445578</td>\n",
       "      <td>445578</td>\n",
       "      <td>445578</td>\n",
       "      <td>445578</td>\n",
       "      <td>445578</td>\n",
       "      <td>445578</td>\n",
       "      <td>445578</td>\n",
       "      <td>445578</td>\n",
       "      <td>445578</td>\n",
       "      <td>445578</td>\n",
       "      <td>445578</td>\n",
       "      <td>445578</td>\n",
       "    </tr>\n",
       "    <tr>\n",
       "      <th>10</th>\n",
       "      <td>229935</td>\n",
       "      <td>229935</td>\n",
       "      <td>229935</td>\n",
       "      <td>229935</td>\n",
       "      <td>229935</td>\n",
       "      <td>229935</td>\n",
       "      <td>229935</td>\n",
       "      <td>229935</td>\n",
       "      <td>229935</td>\n",
       "      <td>229935</td>\n",
       "      <td>229935</td>\n",
       "      <td>229935</td>\n",
       "      <td>229935</td>\n",
       "      <td>229935</td>\n",
       "      <td>229935</td>\n",
       "      <td>229935</td>\n",
       "      <td>229935</td>\n",
       "      <td>229935</td>\n",
       "    </tr>\n",
       "    <tr>\n",
       "      <th>11</th>\n",
       "      <td>216266</td>\n",
       "      <td>216266</td>\n",
       "      <td>216266</td>\n",
       "      <td>216266</td>\n",
       "      <td>216266</td>\n",
       "      <td>216266</td>\n",
       "      <td>216266</td>\n",
       "      <td>216266</td>\n",
       "      <td>216266</td>\n",
       "      <td>216266</td>\n",
       "      <td>216266</td>\n",
       "      <td>216266</td>\n",
       "      <td>216266</td>\n",
       "      <td>216266</td>\n",
       "      <td>216266</td>\n",
       "      <td>216266</td>\n",
       "      <td>216266</td>\n",
       "      <td>216266</td>\n",
       "    </tr>\n",
       "    <tr>\n",
       "      <th>12</th>\n",
       "      <td>240825</td>\n",
       "      <td>240825</td>\n",
       "      <td>240825</td>\n",
       "      <td>240825</td>\n",
       "      <td>240825</td>\n",
       "      <td>240825</td>\n",
       "      <td>240825</td>\n",
       "      <td>240825</td>\n",
       "      <td>240825</td>\n",
       "      <td>240825</td>\n",
       "      <td>240825</td>\n",
       "      <td>240825</td>\n",
       "      <td>240825</td>\n",
       "      <td>240825</td>\n",
       "      <td>240825</td>\n",
       "      <td>240825</td>\n",
       "      <td>240825</td>\n",
       "      <td>240825</td>\n",
       "    </tr>\n",
       "    <tr>\n",
       "      <th>13</th>\n",
       "      <td>235883</td>\n",
       "      <td>235883</td>\n",
       "      <td>235883</td>\n",
       "      <td>235883</td>\n",
       "      <td>235883</td>\n",
       "      <td>235883</td>\n",
       "      <td>235883</td>\n",
       "      <td>235883</td>\n",
       "      <td>235883</td>\n",
       "      <td>235883</td>\n",
       "      <td>235883</td>\n",
       "      <td>235883</td>\n",
       "      <td>235883</td>\n",
       "      <td>235883</td>\n",
       "      <td>235883</td>\n",
       "      <td>235883</td>\n",
       "      <td>235883</td>\n",
       "      <td>235883</td>\n",
       "    </tr>\n",
       "    <tr>\n",
       "      <th>14</th>\n",
       "      <td>225259</td>\n",
       "      <td>225259</td>\n",
       "      <td>225259</td>\n",
       "      <td>225259</td>\n",
       "      <td>225259</td>\n",
       "      <td>225259</td>\n",
       "      <td>225259</td>\n",
       "      <td>225259</td>\n",
       "      <td>225259</td>\n",
       "      <td>225259</td>\n",
       "      <td>225259</td>\n",
       "      <td>225259</td>\n",
       "      <td>225259</td>\n",
       "      <td>225259</td>\n",
       "      <td>225259</td>\n",
       "      <td>225259</td>\n",
       "      <td>225259</td>\n",
       "      <td>225259</td>\n",
       "    </tr>\n",
       "    <tr>\n",
       "      <th>15</th>\n",
       "      <td>260963</td>\n",
       "      <td>260963</td>\n",
       "      <td>260963</td>\n",
       "      <td>260963</td>\n",
       "      <td>260963</td>\n",
       "      <td>260963</td>\n",
       "      <td>260963</td>\n",
       "      <td>260963</td>\n",
       "      <td>260963</td>\n",
       "      <td>260963</td>\n",
       "      <td>260963</td>\n",
       "      <td>260963</td>\n",
       "      <td>260963</td>\n",
       "      <td>260963</td>\n",
       "      <td>260963</td>\n",
       "      <td>260963</td>\n",
       "      <td>260963</td>\n",
       "      <td>260963</td>\n",
       "    </tr>\n",
       "    <tr>\n",
       "      <th>16</th>\n",
       "      <td>395268</td>\n",
       "      <td>395268</td>\n",
       "      <td>395268</td>\n",
       "      <td>395268</td>\n",
       "      <td>395268</td>\n",
       "      <td>395268</td>\n",
       "      <td>395268</td>\n",
       "      <td>395268</td>\n",
       "      <td>395268</td>\n",
       "      <td>395268</td>\n",
       "      <td>395268</td>\n",
       "      <td>395268</td>\n",
       "      <td>395268</td>\n",
       "      <td>395268</td>\n",
       "      <td>395268</td>\n",
       "      <td>395268</td>\n",
       "      <td>395268</td>\n",
       "      <td>395268</td>\n",
       "    </tr>\n",
       "    <tr>\n",
       "      <th>17</th>\n",
       "      <td>607079</td>\n",
       "      <td>607079</td>\n",
       "      <td>607079</td>\n",
       "      <td>607079</td>\n",
       "      <td>607079</td>\n",
       "      <td>607079</td>\n",
       "      <td>607079</td>\n",
       "      <td>607079</td>\n",
       "      <td>607079</td>\n",
       "      <td>607079</td>\n",
       "      <td>607079</td>\n",
       "      <td>607079</td>\n",
       "      <td>607079</td>\n",
       "      <td>607079</td>\n",
       "      <td>607079</td>\n",
       "      <td>607079</td>\n",
       "      <td>607079</td>\n",
       "      <td>607079</td>\n",
       "    </tr>\n",
       "    <tr>\n",
       "      <th>18</th>\n",
       "      <td>473811</td>\n",
       "      <td>473811</td>\n",
       "      <td>473811</td>\n",
       "      <td>473811</td>\n",
       "      <td>473811</td>\n",
       "      <td>473811</td>\n",
       "      <td>473811</td>\n",
       "      <td>473811</td>\n",
       "      <td>473811</td>\n",
       "      <td>473811</td>\n",
       "      <td>473811</td>\n",
       "      <td>473811</td>\n",
       "      <td>473811</td>\n",
       "      <td>473811</td>\n",
       "      <td>473811</td>\n",
       "      <td>473811</td>\n",
       "      <td>473811</td>\n",
       "      <td>473811</td>\n",
       "    </tr>\n",
       "    <tr>\n",
       "      <th>19</th>\n",
       "      <td>286942</td>\n",
       "      <td>286942</td>\n",
       "      <td>286942</td>\n",
       "      <td>286942</td>\n",
       "      <td>286942</td>\n",
       "      <td>286942</td>\n",
       "      <td>286942</td>\n",
       "      <td>286942</td>\n",
       "      <td>286942</td>\n",
       "      <td>286942</td>\n",
       "      <td>286942</td>\n",
       "      <td>286942</td>\n",
       "      <td>286942</td>\n",
       "      <td>286942</td>\n",
       "      <td>286942</td>\n",
       "      <td>286942</td>\n",
       "      <td>286942</td>\n",
       "      <td>286942</td>\n",
       "    </tr>\n",
       "    <tr>\n",
       "      <th>20</th>\n",
       "      <td>181804</td>\n",
       "      <td>181804</td>\n",
       "      <td>181804</td>\n",
       "      <td>181804</td>\n",
       "      <td>181804</td>\n",
       "      <td>181804</td>\n",
       "      <td>181804</td>\n",
       "      <td>181804</td>\n",
       "      <td>181804</td>\n",
       "      <td>181804</td>\n",
       "      <td>181804</td>\n",
       "      <td>181804</td>\n",
       "      <td>181804</td>\n",
       "      <td>181804</td>\n",
       "      <td>181804</td>\n",
       "      <td>181804</td>\n",
       "      <td>181804</td>\n",
       "      <td>181804</td>\n",
       "    </tr>\n",
       "    <tr>\n",
       "      <th>21</th>\n",
       "      <td>128565</td>\n",
       "      <td>128565</td>\n",
       "      <td>128565</td>\n",
       "      <td>128565</td>\n",
       "      <td>128565</td>\n",
       "      <td>128565</td>\n",
       "      <td>128565</td>\n",
       "      <td>128565</td>\n",
       "      <td>128565</td>\n",
       "      <td>128565</td>\n",
       "      <td>128565</td>\n",
       "      <td>128565</td>\n",
       "      <td>128565</td>\n",
       "      <td>128565</td>\n",
       "      <td>128565</td>\n",
       "      <td>128565</td>\n",
       "      <td>128565</td>\n",
       "      <td>128565</td>\n",
       "    </tr>\n",
       "    <tr>\n",
       "      <th>22</th>\n",
       "      <td>86234</td>\n",
       "      <td>86234</td>\n",
       "      <td>86234</td>\n",
       "      <td>86234</td>\n",
       "      <td>86234</td>\n",
       "      <td>86234</td>\n",
       "      <td>86234</td>\n",
       "      <td>86234</td>\n",
       "      <td>86234</td>\n",
       "      <td>86234</td>\n",
       "      <td>86234</td>\n",
       "      <td>86234</td>\n",
       "      <td>86234</td>\n",
       "      <td>86234</td>\n",
       "      <td>86234</td>\n",
       "      <td>86234</td>\n",
       "      <td>86234</td>\n",
       "      <td>86234</td>\n",
       "    </tr>\n",
       "    <tr>\n",
       "      <th>23</th>\n",
       "      <td>51412</td>\n",
       "      <td>51412</td>\n",
       "      <td>51412</td>\n",
       "      <td>51412</td>\n",
       "      <td>51412</td>\n",
       "      <td>51412</td>\n",
       "      <td>51412</td>\n",
       "      <td>51412</td>\n",
       "      <td>51412</td>\n",
       "      <td>51412</td>\n",
       "      <td>51412</td>\n",
       "      <td>51412</td>\n",
       "      <td>51412</td>\n",
       "      <td>51412</td>\n",
       "      <td>51412</td>\n",
       "      <td>51412</td>\n",
       "      <td>51412</td>\n",
       "      <td>51412</td>\n",
       "    </tr>\n",
       "  </tbody>\n",
       "</table>\n",
       "</div>"
      ],
      "text/plain": [
       "            duration_sec  start_time  end_time  start_station_id  \\\n",
       "start_hour                                                         \n",
       "0                  28357       28357     28357             28357   \n",
       "1                  16441       16441     16441             16441   \n",
       "2                  10467       10467     10467             10467   \n",
       "3                   5363        5363      5363              5363   \n",
       "4                   7131        7131      7131              7131   \n",
       "5                  26820       26820     26820             26820   \n",
       "6                 103563      103563    103563            103563   \n",
       "7                 284480      284480    284480            284480   \n",
       "8                 575912      575912    575912            575912   \n",
       "9                 445578      445578    445578            445578   \n",
       "10                229935      229935    229935            229935   \n",
       "11                216266      216266    216266            216266   \n",
       "12                240825      240825    240825            240825   \n",
       "13                235883      235883    235883            235883   \n",
       "14                225259      225259    225259            225259   \n",
       "15                260963      260963    260963            260963   \n",
       "16                395268      395268    395268            395268   \n",
       "17                607079      607079    607079            607079   \n",
       "18                473811      473811    473811            473811   \n",
       "19                286942      286942    286942            286942   \n",
       "20                181804      181804    181804            181804   \n",
       "21                128565      128565    128565            128565   \n",
       "22                 86234       86234     86234             86234   \n",
       "23                 51412       51412     51412             51412   \n",
       "\n",
       "            start_station_name  start_station_latitude  \\\n",
       "start_hour                                               \n",
       "0                        28357                   28357   \n",
       "1                        16441                   16441   \n",
       "2                        10467                   10467   \n",
       "3                         5363                    5363   \n",
       "4                         7131                    7131   \n",
       "5                        26820                   26820   \n",
       "6                       103563                  103563   \n",
       "7                       284480                  284480   \n",
       "8                       575912                  575912   \n",
       "9                       445578                  445578   \n",
       "10                      229935                  229935   \n",
       "11                      216266                  216266   \n",
       "12                      240825                  240825   \n",
       "13                      235883                  235883   \n",
       "14                      225259                  225259   \n",
       "15                      260963                  260963   \n",
       "16                      395268                  395268   \n",
       "17                      607079                  607079   \n",
       "18                      473811                  473811   \n",
       "19                      286942                  286942   \n",
       "20                      181804                  181804   \n",
       "21                      128565                  128565   \n",
       "22                       86234                   86234   \n",
       "23                       51412                   51412   \n",
       "\n",
       "            start_station_longitude  end_station_id  end_station_name  \\\n",
       "start_hour                                                              \n",
       "0                             28357           28357             28357   \n",
       "1                             16441           16441             16441   \n",
       "2                             10467           10467             10467   \n",
       "3                              5363            5363              5363   \n",
       "4                              7131            7131              7131   \n",
       "5                             26820           26820             26820   \n",
       "6                            103563          103563            103563   \n",
       "7                            284480          284480            284480   \n",
       "8                            575912          575912            575912   \n",
       "9                            445578          445578            445578   \n",
       "10                           229935          229935            229935   \n",
       "11                           216266          216266            216266   \n",
       "12                           240825          240825            240825   \n",
       "13                           235883          235883            235883   \n",
       "14                           225259          225259            225259   \n",
       "15                           260963          260963            260963   \n",
       "16                           395268          395268            395268   \n",
       "17                           607079          607079            607079   \n",
       "18                           473811          473811            473811   \n",
       "19                           286942          286942            286942   \n",
       "20                           181804          181804            181804   \n",
       "21                           128565          128565            128565   \n",
       "22                            86234           86234             86234   \n",
       "23                            51412           51412             51412   \n",
       "\n",
       "            end_station_latitude  end_station_longitude  bike_id  user_type  \\\n",
       "start_hour                                                                    \n",
       "0                          28357                  28357    28357      28357   \n",
       "1                          16441                  16441    16441      16441   \n",
       "2                          10467                  10467    10467      10467   \n",
       "3                           5363                   5363     5363       5363   \n",
       "4                           7131                   7131     7131       7131   \n",
       "5                          26820                  26820    26820      26820   \n",
       "6                         103563                 103563   103563     103563   \n",
       "7                         284480                 284480   284480     284480   \n",
       "8                         575912                 575912   575912     575912   \n",
       "9                         445578                 445578   445578     445578   \n",
       "10                        229935                 229935   229935     229935   \n",
       "11                        216266                 216266   216266     216266   \n",
       "12                        240825                 240825   240825     240825   \n",
       "13                        235883                 235883   235883     235883   \n",
       "14                        225259                 225259   225259     225259   \n",
       "15                        260963                 260963   260963     260963   \n",
       "16                        395268                 395268   395268     395268   \n",
       "17                        607079                 607079   607079     607079   \n",
       "18                        473811                 473811   473811     473811   \n",
       "19                        286942                 286942   286942     286942   \n",
       "20                        181804                 181804   181804     181804   \n",
       "21                        128565                 128565   128565     128565   \n",
       "22                         86234                  86234    86234      86234   \n",
       "23                         51412                  51412    51412      51412   \n",
       "\n",
       "            duration_min  start_day_of_week  start_month    year  distance_km  \n",
       "start_hour                                                                     \n",
       "0                  28357              28357        28357   28357        28357  \n",
       "1                  16441              16441        16441   16441        16441  \n",
       "2                  10467              10467        10467   10467        10467  \n",
       "3                   5363               5363         5363    5363         5363  \n",
       "4                   7131               7131         7131    7131         7131  \n",
       "5                  26820              26820        26820   26820        26820  \n",
       "6                 103563             103563       103563  103563       103563  \n",
       "7                 284480             284480       284480  284480       284480  \n",
       "8                 575912             575912       575912  575912       575912  \n",
       "9                 445578             445578       445578  445578       445578  \n",
       "10                229935             229935       229935  229935       229935  \n",
       "11                216266             216266       216266  216266       216266  \n",
       "12                240825             240825       240825  240825       240825  \n",
       "13                235883             235883       235883  235883       235883  \n",
       "14                225259             225259       225259  225259       225259  \n",
       "15                260963             260963       260963  260963       260963  \n",
       "16                395268             395268       395268  395268       395268  \n",
       "17                607079             607079       607079  607079       607079  \n",
       "18                473811             473811       473811  473811       473811  \n",
       "19                286942             286942       286942  286942       286942  \n",
       "20                181804             181804       181804  181804       181804  \n",
       "21                128565             128565       128565  128565       128565  \n",
       "22                 86234              86234        86234   86234        86234  \n",
       "23                 51412              51412        51412   51412        51412  "
      ]
     },
     "execution_count": 39,
     "metadata": {},
     "output_type": "execute_result"
    }
   ],
   "source": [
    "# returns totals for start hour\n",
    "df_Ford_Go_Bike_2017_2020_Master_CLEAN_v5.groupby(['start_hour']).count()"
   ]
  },
  {
   "cell_type": "code",
   "execution_count": 40,
   "metadata": {},
   "outputs": [
    {
     "data": {
      "image/png": "[encoded data removed]",
      "text/plain": [
       "<Figure size 720x360 with 1 Axes>"
      ]
     },
     "metadata": {},
     "output_type": "display_data"
    }
   ],
   "source": [
    "# returns most popular count for hours of day\n",
    "plt.rcParams['figure.figsize'] = 10, 5\n",
    "base_color = sns.color_palette('YlGn_r')[0]\n",
    "sns.set_style('darkgrid')\n",
    "\n",
    "sns.countplot(data=df_Ford_Go_Bike_2017_2020_Master_CLEAN_v5, x='start_hour', color=base_color);\n",
    "plt.title('Most popular hours for hires', weight='bold').set_fontsize('14')\n",
    "plt.xlabel('Time of day');\n",
    "plt.ylabel('Frequency');"
   ]
  },
  {
   "cell_type": "markdown",
   "metadata": {},
   "source": [
    "***Comment(s):*** There is a clear distinction in morning and evening rides, this infers that the majority of users are people going to and from work as circa 57k users hire a bike at 08:00 and circa 60+k users hire a bike at 17:00.  \n",
    "\n",
    "Next I will analyse daily breakdown of bike hires."
   ]
  },
  {
   "cell_type": "markdown",
   "metadata": {},
   "source": [
    "<ul>\n",
    "<li><a href=\"#home\">Go to TOC </a></li>\n",
    "</ul>   "
   ]
  },
  {
   "cell_type": "markdown",
   "metadata": {},
   "source": [
    "**Daily breakdown of Bike Hires**"
   ]
  },
  {
   "cell_type": "code",
   "execution_count": 41,
   "metadata": {},
   "outputs": [],
   "source": [
    "# Convert the start_day_of_week to ordinal variables.\n",
    "weekdays = ['Mon','Tue','Wed','Thu','Fri', 'Sat', 'Sun']\n",
    "ordered_weekdays = pd.api.types.CategoricalDtype(ordered = True, categories = weekdays)\n",
    "df_Ford_Go_Bike_2017_2020_Master_CLEAN_v5['start_day_of_week'] = df_Ford_Go_Bike_2017_2020_Master_CLEAN_v5['start_day_of_week'].astype(ordered_weekdays)\n"
   ]
  },
  {
   "cell_type": "code",
   "execution_count": 42,
   "metadata": {},
   "outputs": [
    {
     "data": {
      "text/html": [
       "<div>\n",
       "<style scoped>\n",
       "    .dataframe tbody tr th:only-of-type {\n",
       "        vertical-align: middle;\n",
       "    }\n",
       "\n",
       "    .dataframe tbody tr th {\n",
       "        vertical-align: top;\n",
       "    }\n",
       "\n",
       "    .dataframe thead th {\n",
       "        text-align: right;\n",
       "    }\n",
       "</style>\n",
       "<table border=\"1\" class=\"dataframe\">\n",
       "  <thead>\n",
       "    <tr style=\"text-align: right;\">\n",
       "      <th></th>\n",
       "      <th>duration_sec</th>\n",
       "      <th>start_time</th>\n",
       "      <th>end_time</th>\n",
       "      <th>start_station_id</th>\n",
       "      <th>start_station_name</th>\n",
       "      <th>start_station_latitude</th>\n",
       "      <th>start_station_longitude</th>\n",
       "      <th>end_station_id</th>\n",
       "      <th>end_station_name</th>\n",
       "      <th>end_station_latitude</th>\n",
       "      <th>end_station_longitude</th>\n",
       "      <th>bike_id</th>\n",
       "      <th>user_type</th>\n",
       "      <th>duration_min</th>\n",
       "      <th>start_hour</th>\n",
       "      <th>start_month</th>\n",
       "      <th>year</th>\n",
       "      <th>distance_km</th>\n",
       "    </tr>\n",
       "    <tr>\n",
       "      <th>start_day_of_week</th>\n",
       "      <th></th>\n",
       "      <th></th>\n",
       "      <th></th>\n",
       "      <th></th>\n",
       "      <th></th>\n",
       "      <th></th>\n",
       "      <th></th>\n",
       "      <th></th>\n",
       "      <th></th>\n",
       "      <th></th>\n",
       "      <th></th>\n",
       "      <th></th>\n",
       "      <th></th>\n",
       "      <th></th>\n",
       "      <th></th>\n",
       "      <th></th>\n",
       "      <th></th>\n",
       "      <th></th>\n",
       "    </tr>\n",
       "  </thead>\n",
       "  <tbody>\n",
       "    <tr>\n",
       "      <th>Mon</th>\n",
       "      <td>809059</td>\n",
       "      <td>809059</td>\n",
       "      <td>809059</td>\n",
       "      <td>809059</td>\n",
       "      <td>809059</td>\n",
       "      <td>809059</td>\n",
       "      <td>809059</td>\n",
       "      <td>809059</td>\n",
       "      <td>809059</td>\n",
       "      <td>809059</td>\n",
       "      <td>809059</td>\n",
       "      <td>809059</td>\n",
       "      <td>809059</td>\n",
       "      <td>809059</td>\n",
       "      <td>809059</td>\n",
       "      <td>809059</td>\n",
       "      <td>809059</td>\n",
       "      <td>809059</td>\n",
       "    </tr>\n",
       "    <tr>\n",
       "      <th>Tue</th>\n",
       "      <td>873189</td>\n",
       "      <td>873189</td>\n",
       "      <td>873189</td>\n",
       "      <td>873189</td>\n",
       "      <td>873189</td>\n",
       "      <td>873189</td>\n",
       "      <td>873189</td>\n",
       "      <td>873189</td>\n",
       "      <td>873189</td>\n",
       "      <td>873189</td>\n",
       "      <td>873189</td>\n",
       "      <td>873189</td>\n",
       "      <td>873189</td>\n",
       "      <td>873189</td>\n",
       "      <td>873189</td>\n",
       "      <td>873189</td>\n",
       "      <td>873189</td>\n",
       "      <td>873189</td>\n",
       "    </tr>\n",
       "    <tr>\n",
       "      <th>Wed</th>\n",
       "      <td>863477</td>\n",
       "      <td>863477</td>\n",
       "      <td>863477</td>\n",
       "      <td>863477</td>\n",
       "      <td>863477</td>\n",
       "      <td>863477</td>\n",
       "      <td>863477</td>\n",
       "      <td>863477</td>\n",
       "      <td>863477</td>\n",
       "      <td>863477</td>\n",
       "      <td>863477</td>\n",
       "      <td>863477</td>\n",
       "      <td>863477</td>\n",
       "      <td>863477</td>\n",
       "      <td>863477</td>\n",
       "      <td>863477</td>\n",
       "      <td>863477</td>\n",
       "      <td>863477</td>\n",
       "    </tr>\n",
       "    <tr>\n",
       "      <th>Thu</th>\n",
       "      <td>866717</td>\n",
       "      <td>866717</td>\n",
       "      <td>866717</td>\n",
       "      <td>866717</td>\n",
       "      <td>866717</td>\n",
       "      <td>866717</td>\n",
       "      <td>866717</td>\n",
       "      <td>866717</td>\n",
       "      <td>866717</td>\n",
       "      <td>866717</td>\n",
       "      <td>866717</td>\n",
       "      <td>866717</td>\n",
       "      <td>866717</td>\n",
       "      <td>866717</td>\n",
       "      <td>866717</td>\n",
       "      <td>866717</td>\n",
       "      <td>866717</td>\n",
       "      <td>866717</td>\n",
       "    </tr>\n",
       "    <tr>\n",
       "      <th>Fri</th>\n",
       "      <td>808522</td>\n",
       "      <td>808522</td>\n",
       "      <td>808522</td>\n",
       "      <td>808522</td>\n",
       "      <td>808522</td>\n",
       "      <td>808522</td>\n",
       "      <td>808522</td>\n",
       "      <td>808522</td>\n",
       "      <td>808522</td>\n",
       "      <td>808522</td>\n",
       "      <td>808522</td>\n",
       "      <td>808522</td>\n",
       "      <td>808522</td>\n",
       "      <td>808522</td>\n",
       "      <td>808522</td>\n",
       "      <td>808522</td>\n",
       "      <td>808522</td>\n",
       "      <td>808522</td>\n",
       "    </tr>\n",
       "    <tr>\n",
       "      <th>Sat</th>\n",
       "      <td>477273</td>\n",
       "      <td>477273</td>\n",
       "      <td>477273</td>\n",
       "      <td>477273</td>\n",
       "      <td>477273</td>\n",
       "      <td>477273</td>\n",
       "      <td>477273</td>\n",
       "      <td>477273</td>\n",
       "      <td>477273</td>\n",
       "      <td>477273</td>\n",
       "      <td>477273</td>\n",
       "      <td>477273</td>\n",
       "      <td>477273</td>\n",
       "      <td>477273</td>\n",
       "      <td>477273</td>\n",
       "      <td>477273</td>\n",
       "      <td>477273</td>\n",
       "      <td>477273</td>\n",
       "    </tr>\n",
       "    <tr>\n",
       "      <th>Sun</th>\n",
       "      <td>426121</td>\n",
       "      <td>426121</td>\n",
       "      <td>426121</td>\n",
       "      <td>426121</td>\n",
       "      <td>426121</td>\n",
       "      <td>426121</td>\n",
       "      <td>426121</td>\n",
       "      <td>426121</td>\n",
       "      <td>426121</td>\n",
       "      <td>426121</td>\n",
       "      <td>426121</td>\n",
       "      <td>426121</td>\n",
       "      <td>426121</td>\n",
       "      <td>426121</td>\n",
       "      <td>426121</td>\n",
       "      <td>426121</td>\n",
       "      <td>426121</td>\n",
       "      <td>426121</td>\n",
       "    </tr>\n",
       "  </tbody>\n",
       "</table>\n",
       "</div>"
      ],
      "text/plain": [
       "                   duration_sec  start_time  end_time  start_station_id  \\\n",
       "start_day_of_week                                                         \n",
       "Mon                      809059      809059    809059            809059   \n",
       "Tue                      873189      873189    873189            873189   \n",
       "Wed                      863477      863477    863477            863477   \n",
       "Thu                      866717      866717    866717            866717   \n",
       "Fri                      808522      808522    808522            808522   \n",
       "Sat                      477273      477273    477273            477273   \n",
       "Sun                      426121      426121    426121            426121   \n",
       "\n",
       "                   start_station_name  start_station_latitude  \\\n",
       "start_day_of_week                                               \n",
       "Mon                            809059                  809059   \n",
       "Tue                            873189                  873189   \n",
       "Wed                            863477                  863477   \n",
       "Thu                            866717                  866717   \n",
       "Fri                            808522                  808522   \n",
       "Sat                            477273                  477273   \n",
       "Sun                            426121                  426121   \n",
       "\n",
       "                   start_station_longitude  end_station_id  end_station_name  \\\n",
       "start_day_of_week                                                              \n",
       "Mon                                 809059          809059            809059   \n",
       "Tue                                 873189          873189            873189   \n",
       "Wed                                 863477          863477            863477   \n",
       "Thu                                 866717          866717            866717   \n",
       "Fri                                 808522          808522            808522   \n",
       "Sat                                 477273          477273            477273   \n",
       "Sun                                 426121          426121            426121   \n",
       "\n",
       "                   end_station_latitude  end_station_longitude  bike_id  \\\n",
       "start_day_of_week                                                         \n",
       "Mon                              809059                 809059   809059   \n",
       "Tue                              873189                 873189   873189   \n",
       "Wed                              863477                 863477   863477   \n",
       "Thu                              866717                 866717   866717   \n",
       "Fri                              808522                 808522   808522   \n",
       "Sat                              477273                 477273   477273   \n",
       "Sun                              426121                 426121   426121   \n",
       "\n",
       "                   user_type  duration_min  start_hour  start_month    year  \\\n",
       "start_day_of_week                                                             \n",
       "Mon                   809059        809059      809059       809059  809059   \n",
       "Tue                   873189        873189      873189       873189  873189   \n",
       "Wed                   863477        863477      863477       863477  863477   \n",
       "Thu                   866717        866717      866717       866717  866717   \n",
       "Fri                   808522        808522      808522       808522  808522   \n",
       "Sat                   477273        477273      477273       477273  477273   \n",
       "Sun                   426121        426121      426121       426121  426121   \n",
       "\n",
       "                   distance_km  \n",
       "start_day_of_week               \n",
       "Mon                     809059  \n",
       "Tue                     873189  \n",
       "Wed                     863477  \n",
       "Thu                     866717  \n",
       "Fri                     808522  \n",
       "Sat                     477273  \n",
       "Sun                     426121  "
      ]
     },
     "execution_count": 42,
     "metadata": {},
     "output_type": "execute_result"
    }
   ],
   "source": [
    "# returns count for days of week \n",
    "df_Ford_Go_Bike_2017_2020_Master_CLEAN_v5.groupby(['start_day_of_week']).count()"
   ]
  },
  {
   "cell_type": "code",
   "execution_count": 43,
   "metadata": {},
   "outputs": [
    {
     "data": {
      "image/png": "[encoded data removed]",
      "text/plain": [
       "<Figure size 720x360 with 1 Axes>"
      ]
     },
     "metadata": {},
     "output_type": "display_data"
    }
   ],
   "source": [
    "# Most popular day of the week for hiring bikes\n",
    "plt.rcParams['figure.figsize'] = 10, 5\n",
    "base_color = sns.color_palette('YlGn_r')[0]\n",
    "sns.set_style('darkgrid')\n",
    "\n",
    "sns.countplot(data=df_Ford_Go_Bike_2017_2020_Master_CLEAN_v5, x='start_day_of_week', color=base_color);\n",
    "plt.title('Most popular day of week for hires', weight='bold').set_fontsize('14')\n",
    "plt.xlabel('Day of week');\n",
    "plt.ylabel('Frequency');"
   ]
  },
  {
   "cell_type": "markdown",
   "metadata": {},
   "source": [
    "***Comment(s):*** The above chart further reinforces my assumption that the highest users are work commuters as the bikes have circa 30k more hires Mon - Fri than the weekend, Tuesday and Thursday being hte most popular days. \n",
    "\n",
    "Next I will analyse monthly breakdown of bike hires."
   ]
  },
  {
   "cell_type": "markdown",
   "metadata": {},
   "source": [
    "**Monthly breakdown of Bike Hires**"
   ]
  },
  {
   "cell_type": "code",
   "execution_count": 44,
   "metadata": {},
   "outputs": [],
   "source": [
    "# Convert the start_month to ordinal variables.\n",
    "months = ['January','February','March','April','May', 'June', 'July', 'August', 'September', 'October', 'November', 'December']\n",
    "ordered_months = pd.api.types.CategoricalDtype(ordered = True, categories = months)\n",
    "df_Ford_Go_Bike_2017_2020_Master_CLEAN_v5['start_month'] = df_Ford_Go_Bike_2017_2020_Master_CLEAN_v5['start_month'].astype(ordered_months)"
   ]
  },
  {
   "cell_type": "code",
   "execution_count": 45,
   "metadata": {},
   "outputs": [
    {
     "data": {
      "image/png": "[encoded data removed]",
      "text/plain": [
       "<Figure size 720x360 with 1 Axes>"
      ]
     },
     "metadata": {},
     "output_type": "display_data"
    }
   ],
   "source": [
    "# Breakdown by month\n",
    "plt.rcParams['figure.figsize'] = 10, 5\n",
    "base_color = sns.color_palette('YlGn_r')[0]\n",
    "sns.set_style('darkgrid')\n",
    "\n",
    "sns.countplot(data=df_Ford_Go_Bike_2017_2020_Master_CLEAN_v5, x='start_month', color=base_color);\n",
    "plt.title('Most popular month for hires', weight='bold').set_fontsize('14')\n",
    "plt.xlabel('Month');\n",
    "plt.ylabel('Frequency');"
   ]
  },
  {
   "cell_type": "markdown",
   "metadata": {},
   "source": [
    "***Comment(s):*** Most popular months for hires is October with over 55k closely followed by September.  The least popular is December which isn't surprising given that the majority of users would be on holidays. \n",
    "\n",
    "Next I will analyse yearly breakdown of bike hires."
   ]
  },
  {
   "cell_type": "markdown",
   "metadata": {},
   "source": [
    "<ul>\n",
    "<li><a href=\"#home\">Go to TOC </a></li>\n",
    "</ul>   "
   ]
  },
  {
   "cell_type": "markdown",
   "metadata": {},
   "source": [
    "**Yearly breakdown of Bike Hires from 2017 Aug 2020**"
   ]
  },
  {
   "cell_type": "code",
   "execution_count": 46,
   "metadata": {},
   "outputs": [
    {
     "data": {
      "text/html": [
       "<div>\n",
       "<style scoped>\n",
       "    .dataframe tbody tr th:only-of-type {\n",
       "        vertical-align: middle;\n",
       "    }\n",
       "\n",
       "    .dataframe tbody tr th {\n",
       "        vertical-align: top;\n",
       "    }\n",
       "\n",
       "    .dataframe thead th {\n",
       "        text-align: right;\n",
       "    }\n",
       "</style>\n",
       "<table border=\"1\" class=\"dataframe\">\n",
       "  <thead>\n",
       "    <tr style=\"text-align: right;\">\n",
       "      <th></th>\n",
       "      <th>duration_sec</th>\n",
       "      <th>start_time</th>\n",
       "      <th>end_time</th>\n",
       "      <th>start_station_id</th>\n",
       "      <th>start_station_name</th>\n",
       "      <th>start_station_latitude</th>\n",
       "      <th>start_station_longitude</th>\n",
       "      <th>end_station_id</th>\n",
       "      <th>end_station_name</th>\n",
       "      <th>end_station_latitude</th>\n",
       "      <th>end_station_longitude</th>\n",
       "      <th>bike_id</th>\n",
       "      <th>user_type</th>\n",
       "      <th>duration_min</th>\n",
       "      <th>start_hour</th>\n",
       "      <th>start_day_of_week</th>\n",
       "      <th>start_month</th>\n",
       "      <th>distance_km</th>\n",
       "    </tr>\n",
       "    <tr>\n",
       "      <th>year</th>\n",
       "      <th></th>\n",
       "      <th></th>\n",
       "      <th></th>\n",
       "      <th></th>\n",
       "      <th></th>\n",
       "      <th></th>\n",
       "      <th></th>\n",
       "      <th></th>\n",
       "      <th></th>\n",
       "      <th></th>\n",
       "      <th></th>\n",
       "      <th></th>\n",
       "      <th></th>\n",
       "      <th></th>\n",
       "      <th></th>\n",
       "      <th></th>\n",
       "      <th></th>\n",
       "      <th></th>\n",
       "    </tr>\n",
       "  </thead>\n",
       "  <tbody>\n",
       "    <tr>\n",
       "      <th>2017</th>\n",
       "      <td>519700</td>\n",
       "      <td>519700</td>\n",
       "      <td>519700</td>\n",
       "      <td>519700</td>\n",
       "      <td>519700</td>\n",
       "      <td>519700</td>\n",
       "      <td>519700</td>\n",
       "      <td>519700</td>\n",
       "      <td>519700</td>\n",
       "      <td>519700</td>\n",
       "      <td>519700</td>\n",
       "      <td>519700</td>\n",
       "      <td>519700</td>\n",
       "      <td>519700</td>\n",
       "      <td>519700</td>\n",
       "      <td>519700</td>\n",
       "      <td>519700</td>\n",
       "      <td>519700</td>\n",
       "    </tr>\n",
       "    <tr>\n",
       "      <th>2018</th>\n",
       "      <td>1851950</td>\n",
       "      <td>1851950</td>\n",
       "      <td>1851950</td>\n",
       "      <td>1851950</td>\n",
       "      <td>1851950</td>\n",
       "      <td>1851950</td>\n",
       "      <td>1851950</td>\n",
       "      <td>1851950</td>\n",
       "      <td>1851950</td>\n",
       "      <td>1851950</td>\n",
       "      <td>1851950</td>\n",
       "      <td>1851950</td>\n",
       "      <td>1851950</td>\n",
       "      <td>1851950</td>\n",
       "      <td>1851950</td>\n",
       "      <td>1851950</td>\n",
       "      <td>1851950</td>\n",
       "      <td>1851950</td>\n",
       "    </tr>\n",
       "    <tr>\n",
       "      <th>2019</th>\n",
       "      <td>2407259</td>\n",
       "      <td>2407259</td>\n",
       "      <td>2407259</td>\n",
       "      <td>2407259</td>\n",
       "      <td>2407259</td>\n",
       "      <td>2407259</td>\n",
       "      <td>2407259</td>\n",
       "      <td>2407259</td>\n",
       "      <td>2407259</td>\n",
       "      <td>2407259</td>\n",
       "      <td>2407259</td>\n",
       "      <td>2407259</td>\n",
       "      <td>2407259</td>\n",
       "      <td>2407259</td>\n",
       "      <td>2407259</td>\n",
       "      <td>2407259</td>\n",
       "      <td>2407259</td>\n",
       "      <td>2407259</td>\n",
       "    </tr>\n",
       "    <tr>\n",
       "      <th>2020</th>\n",
       "      <td>345449</td>\n",
       "      <td>345449</td>\n",
       "      <td>345449</td>\n",
       "      <td>345449</td>\n",
       "      <td>345449</td>\n",
       "      <td>345449</td>\n",
       "      <td>345449</td>\n",
       "      <td>345449</td>\n",
       "      <td>345449</td>\n",
       "      <td>345449</td>\n",
       "      <td>345449</td>\n",
       "      <td>345449</td>\n",
       "      <td>345449</td>\n",
       "      <td>345449</td>\n",
       "      <td>345449</td>\n",
       "      <td>345449</td>\n",
       "      <td>345449</td>\n",
       "      <td>345449</td>\n",
       "    </tr>\n",
       "  </tbody>\n",
       "</table>\n",
       "</div>"
      ],
      "text/plain": [
       "      duration_sec  start_time  end_time  start_station_id  \\\n",
       "year                                                         \n",
       "2017        519700      519700    519700            519700   \n",
       "2018       1851950     1851950   1851950           1851950   \n",
       "2019       2407259     2407259   2407259           2407259   \n",
       "2020        345449      345449    345449            345449   \n",
       "\n",
       "      start_station_name  start_station_latitude  start_station_longitude  \\\n",
       "year                                                                        \n",
       "2017              519700                  519700                   519700   \n",
       "2018             1851950                 1851950                  1851950   \n",
       "2019             2407259                 2407259                  2407259   \n",
       "2020              345449                  345449                   345449   \n",
       "\n",
       "      end_station_id  end_station_name  end_station_latitude  \\\n",
       "year                                                           \n",
       "2017          519700            519700                519700   \n",
       "2018         1851950           1851950               1851950   \n",
       "2019         2407259           2407259               2407259   \n",
       "2020          345449            345449                345449   \n",
       "\n",
       "      end_station_longitude  bike_id  user_type  duration_min  start_hour  \\\n",
       "year                                                                        \n",
       "2017                 519700   519700     519700        519700      519700   \n",
       "2018                1851950  1851950    1851950       1851950     1851950   \n",
       "2019                2407259  2407259    2407259       2407259     2407259   \n",
       "2020                 345449   345449     345449        345449      345449   \n",
       "\n",
       "      start_day_of_week  start_month  distance_km  \n",
       "year                                               \n",
       "2017             519700       519700       519700  \n",
       "2018            1851950      1851950      1851950  \n",
       "2019            2407259      2407259      2407259  \n",
       "2020             345449       345449       345449  "
      ]
     },
     "execution_count": 46,
     "metadata": {},
     "output_type": "execute_result"
    }
   ],
   "source": [
    "# returns count in years\n",
    "df_Ford_Go_Bike_2017_2020_Master_CLEAN_v5.groupby(['year']).count()"
   ]
  },
  {
   "cell_type": "code",
   "execution_count": 47,
   "metadata": {},
   "outputs": [
    {
     "data": {
      "image/png": "[encoded data removed]",
      "text/plain": [
       "<Figure size 720x360 with 1 Axes>"
      ]
     },
     "metadata": {},
     "output_type": "display_data"
    }
   ],
   "source": [
    "# Breakdown by year\n",
    "plt.rcParams['figure.figsize'] = 10, 5\n",
    "base_color = sns.color_palette('YlGn_r')[0]\n",
    "sns.set_style('darkgrid')\n",
    "\n",
    "sns.countplot(data=df_Ford_Go_Bike_2017_2020_Master_CLEAN_v5, x='year', color=base_color);\n",
    "plt.title('Breakdown of yearly hires from 2017 - Aug 2020', weight='bold').set_fontsize('14')\n",
    "plt.xlabel('Year');\n",
    "plt.ylabel('Frequency');"
   ]
  },
  {
   "cell_type": "markdown",
   "metadata": {},
   "source": [
    "***Comment(s):*** There has been a steady increase in bike hires from 2017 onwards rising to a peak of over 2.4m hires in 2019.  ALthough it would appear that 2020 is going to be less than 2019 even taking into account that the data is derived upto August with only 4 months to go until the end of the year.  \n",
    "\n",
    "Next I will analyse the top 5 most popular starting stations."
   ]
  },
  {
   "cell_type": "markdown",
   "metadata": {},
   "source": [
    "<ul>\n",
    "<li><a href=\"#home\">Go to TOC </a></li>\n",
    "</ul>   "
   ]
  },
  {
   "cell_type": "markdown",
   "metadata": {},
   "source": [
    "**Breakdown of Top 5 popular starting stations**"
   ]
  },
  {
   "cell_type": "code",
   "execution_count": 48,
   "metadata": {},
   "outputs": [
    {
     "data": {
      "text/plain": [
       "Market St at 10th St                                         97536\n",
       "San Francisco Ferry Building (Harry Bridges Plaza)           96082\n",
       "San Francisco Caltrain (Townsend St at 4th St)               93864\n",
       "Berry St at 4th St                                           91999\n",
       "San Francisco Caltrain Station 2  (Townsend St at 4th St)    85942\n",
       "Name: start_station_name, dtype: int64"
      ]
     },
     "execution_count": 48,
     "metadata": {},
     "output_type": "execute_result"
    }
   ],
   "source": [
    "# Most Popular Top 5 Starting Stations\n",
    "df_top_start_stations = df_Ford_Go_Bike_2017_2020_Master_CLEAN_v5['start_station_name'].value_counts()[:5]\n",
    "df_top_start_stations"
   ]
  },
  {
   "cell_type": "code",
   "execution_count": 49,
   "metadata": {},
   "outputs": [
    {
     "data": {
      "image/png": "[encoded data removed]",
      "text/plain": [
       "<Figure size 576x720 with 1 Axes>"
      ]
     },
     "metadata": {},
     "output_type": "display_data"
    }
   ],
   "source": [
    "# Most Popular Top 5 Starting Stations\n",
    "fig, ax = plt.subplots(figsize = (8,10))\n",
    "sns.barplot(df_top_start_stations.index, df_top_start_stations.values, alpha=.8, color = sns.color_palette(\"YlGn_r\")[0])\n",
    "\n",
    "# Add annotation for each bar\n",
    "for p in ax.patches:\n",
    "    ax.annotate('{:.0f}'.format(p.get_height()),\n",
    "                (p.get_x()+p.get_width()/2, p.get_height()-4000), \n",
    "                color = \"white\", size=14, ha='center')\n",
    "\n",
    "sns.despine(fig, left = True)\n",
    "\n",
    "# Add title\n",
    "plt.title('Top 5 Most Popular Starting Stations\\n', weight='bold', size=14)\n",
    "# Rotate x label\n",
    "plt.xticks(rotation=-90)\n",
    "plt.tight_layout();"
   ]
  },
  {
   "cell_type": "markdown",
   "metadata": {},
   "source": [
    "**Comments:** Market St at 100th St is the most popular starting station.  \n",
    "\n",
    "Next I will analyse the top 5 most popular ending stations."
   ]
  },
  {
   "cell_type": "markdown",
   "metadata": {},
   "source": [
    "**Breakdown of Top 5 popular ending stations**"
   ]
  },
  {
   "cell_type": "code",
   "execution_count": 50,
   "metadata": {},
   "outputs": [
    {
     "data": {
      "text/plain": [
       "San Francisco Caltrain (Townsend St at 4th St)               121848\n",
       "San Francisco Caltrain Station 2  (Townsend St at 4th St)    115451\n",
       "San Francisco Ferry Building (Harry Bridges Plaza)           114605\n",
       "Montgomery St BART Station (Market St at 2nd St)             103881\n",
       "Market St at 10th St                                          95554\n",
       "Name: end_station_name, dtype: int64"
      ]
     },
     "execution_count": 50,
     "metadata": {},
     "output_type": "execute_result"
    }
   ],
   "source": [
    "# Most Popular Starting Stations\n",
    "df_top_end_stations = df_Ford_Go_Bike_2017_2020_Master_CLEAN_v5['end_station_name'].value_counts()[:5]\n",
    "df_top_end_stations"
   ]
  },
  {
   "cell_type": "code",
   "execution_count": 51,
   "metadata": {},
   "outputs": [
    {
     "data": {
      "image/png": "[encoded data removed]",
      "text/plain": [
       "<Figure size 576x720 with 1 Axes>"
      ]
     },
     "metadata": {},
     "output_type": "display_data"
    }
   ],
   "source": [
    "# Plotting the \n",
    "fig, ax = plt.subplots(figsize = (8,10))\n",
    "sns.barplot(df_top_end_stations.index, df_top_end_stations.values, alpha=.8, color = sns.color_palette(\"YlGn_r\")[0])\n",
    "\n",
    "# Add annotation for each bar\n",
    "for p in ax.patches:\n",
    "    ax.annotate('{:.0f}'.format(p.get_height()),\n",
    "                (p.get_x()+p.get_width()/2, p.get_height()-4000), \n",
    "                color = \"white\", size=14, ha='center')\n",
    "\n",
    "sns.despine(fig, left = True)\n",
    "\n",
    "# Add title\n",
    "plt.title('Top 5 Most Popular Ending Stations\\n', weight='bold', size=14)\n",
    "# Rotate x label\n",
    "plt.xticks(rotation=-90)\n",
    "plt.tight_layout();"
   ]
  },
  {
   "cell_type": "markdown",
   "metadata": {},
   "source": [
    "**Comments:** San Francisco Caltrain (Townsend St at 4th St) is the most popular ending station.  \n",
    "\n",
    "Next I will analyse ride hire duration."
   ]
  },
  {
   "cell_type": "markdown",
   "metadata": {},
   "source": [
    "<ul>\n",
    "<li><a href=\"#home\">Go to TOC </a></li>\n",
    "</ul>   "
   ]
  },
  {
   "cell_type": "markdown",
   "metadata": {},
   "source": [
    "**Breakdown of ride hire duration**"
   ]
  },
  {
   "cell_type": "code",
   "execution_count": 52,
   "metadata": {},
   "outputs": [
    {
     "data": {
      "image/png": "[encoded data removed]",
      "text/plain": [
       "<Figure size 864x360 with 1 Axes>"
      ]
     },
     "metadata": {},
     "output_type": "display_data"
    }
   ],
   "source": [
    "# Set bin size and color\n",
    "bin_size = 60\n",
    "bins = np.arange(0, df_Ford_Go_Bike_2017_2020_Master_CLEAN_v5.duration_min.max()+bin_size, bin_size)\n",
    "color = sns.color_palette('YlGn_r')[0]\n",
    "\n",
    "# Plotting\n",
    "fig, axes = plt.subplots(figsize = (12,5))\n",
    "plt.hist(df_Ford_Go_Bike_2017_2020_Master_CLEAN_v5.duration_sec, bins = bins, color= color, alpha=0.9);\n",
    "\n",
    "# formatting\n",
    "plt.xticks(ticks = [x for x in range(0,2001,500)])\n",
    "plt.title('Breakdown of ride hire duration\\n', weight='bold', size=14)\n",
    "plt.xlabel('Duration (min)')\n",
    "plt.xlim(0,5000)\n",
    "sns.despine(fig)\n",
    "plt.tight_layout();"
   ]
  },
  {
   "cell_type": "markdown",
   "metadata": {},
   "source": [
    "***Comment(s):*** To further explain the ride hire duration in this case does not mean how long each ride was, instead it is calculated by the start and end time, as we've already seen the vast majority of hires are for commuters so a bike might not go back top it's original docking station for 8 hours, so in effect it has been in 'use' for this time.  Based on this distinction it seems that that over 38k hires had a hire duration of cira 500 minutes (8.3 hours)."
   ]
  },
  {
   "cell_type": "markdown",
   "metadata": {},
   "source": [
    "**Breakdown of user types**"
   ]
  },
  {
   "cell_type": "code",
   "execution_count": 84,
   "metadata": {},
   "outputs": [
    {
     "data": {
      "text/plain": [
       "5124358"
      ]
     },
     "execution_count": 84,
     "metadata": {},
     "output_type": "execute_result"
    }
   ],
   "source": [
    "df_Ford_Go_Bike_2017_2020_Master_CLEAN_v5.user_type.count()\n",
    "df_Ford_Go_Bike_2017_2020_Master_CLEAN_v5.sum(axis=0) "
   ]
  },
  {
   "cell_type": "code",
   "execution_count": 53,
   "metadata": {},
   "outputs": [
    {
     "data": {
      "image/png": "[encoded data removed]",
      "text/plain": [
       "<Figure size 360x576 with 1 Axes>"
      ]
     },
     "metadata": {},
     "output_type": "display_data"
    }
   ],
   "source": [
    "# Breakdown of user types\n",
    "\n",
    "# Plotting \n",
    "fig, ax = plt.subplots(figsize = (5,8))\n",
    "\n",
    "sns.countplot(x = \"user_type\", data = df_Ford_Go_Bike_2017_2020_Master_CLEAN_v5, \n",
    "              order = df_Ford_Go_Bike_2017_2020_Master_CLEAN_v5['user_type'].value_counts().index,\n",
    "              palette = sns.color_palette('colorblind'), alpha=0.9)\n",
    "\n",
    "# Percentage for each age-group\n",
    "perc_list = []\n",
    "\n",
    "# Calculate % for 2 user types \n",
    "type_sum = df_Ford_Go_Bike_2017_2020_Master_CLEAN_v5['user_type'].value_counts().to_list()\n",
    "total_sum = df_Ford_Go_Bike_2017_2020_Master_CLEAN_v5.shape[0]\n",
    "\n",
    "# arrange the % list in same as annotate loop order\n",
    "for i in range(0,len(type_sum)):\n",
    "    percent = int(round(100 * type_sum[i] / total_sum))\n",
    "    perc_list.append(percent) \n",
    "    \n",
    "# Annotate \n",
    "i=0\n",
    "for p in ax.patches:\n",
    "    ax.annotate('{:.0f}'.format(p.get_height()), \n",
    "                (p.get_x()+p.get_width()/2, p.get_height()), \n",
    "                ha=\"center\", va=\"bottom\", size=12)\n",
    "    ax.annotate('{:.0f}%'.format(perc_list[i]), \n",
    "                (p.get_x()+p.get_width()/2, p.get_height()), \n",
    "                ha=\"center\", va=\"top\", color='white', size=12)\n",
    "    i+=1\n",
    "\n",
    "# formatting\n",
    "plt.title('Breakdown of User Types', weight='bold', size=14)\n",
    "sns.despine(fig, left = True)\n",
    "plt.xlabel(\"\");"
   ]
  },
  {
   "cell_type": "markdown",
   "metadata": {},
   "source": [
    "***Comment(s):*** In total subscribers hire nearly four times as many bikes as customers with 78% of the total bike hires."
   ]
  },
  {
   "cell_type": "markdown",
   "metadata": {},
   "source": [
    "#### Discuss the distribution(s) of your variable(s) of interest. Were there any unusual points? Did you need to perform any transformations?\n",
    "\n",
    "> As I completed a very thorough cleaning exercise I did not encounter any unusual points and therefore I did not need to perform any transformations .\n",
    "\n"
   ]
  },
  {
   "cell_type": "markdown",
   "metadata": {},
   "source": [
    "#### Of the features you investigated, were there any unusual distributions? Did you perform any operations on the data to tidy, adjust, or change the form of the data? If so, why did you do this?\n",
    "\n",
    "> I did not find any unusual distributions, much of the findings is what I would expect for a city bike sharing scheme such as the most usuage occurring on weekdays and the most popular times for hiring.   As mentioned above my cleaning phase was extensive and the data by an large was relative;y well structured so I didn't need change the form of the data during he visualisation phase."
   ]
  },
  {
   "cell_type": "markdown",
   "metadata": {},
   "source": [
    "<a id='bivariate'></a>\n",
    "### <font color =\"purple\"> BIVARIATE EXPLORATION\n",
    "\n",
    "> In this section, investigate relationships between pairs of variables in your\n",
    "data. Make sure the variables that you cover here have been introduced in some\n",
    "fashion in the previous section (univariate exploration)."
   ]
  },
  {
   "cell_type": "markdown",
   "metadata": {},
   "source": [
    "<ul>\n",
    "<li><a href=\"#home\">Go to TOC </a></li>\n",
    "</ul>   "
   ]
  },
  {
   "cell_type": "markdown",
   "metadata": {},
   "source": [
    "**Distance by user type**"
   ]
  },
  {
   "cell_type": "code",
   "execution_count": 54,
   "metadata": {},
   "outputs": [
    {
     "data": {
      "text/plain": [
       "Text(0.5, 1.0, 'Breakdown of User Types by Ride Distance (km)')"
      ]
     },
     "execution_count": 54,
     "metadata": {},
     "output_type": "execute_result"
    },
    {
     "data": {
      "image/png": "[encoded data removed]",
      "text/plain": [
       "<Figure size 720x360 with 1 Axes>"
      ]
     },
     "metadata": {},
     "output_type": "display_data"
    }
   ],
   "source": [
    "# returns breakdown of user type by distance\n",
    "sns.barplot(x='user_type',  y='distance_km', data=df_Ford_Go_Bike_2017_2020_Master_CLEAN_v5)\n",
    "plt.title('Breakdown of User Types by Ride Distance (km)', weight='bold', size=14)"
   ]
  },
  {
   "cell_type": "markdown",
   "metadata": {},
   "source": [
    "***Comment(s):*** Although there are far more subscribers hiring bikes when it comes to distance customers travel a further distance then subscribers.   In total they travel an average of just under 2.5 km which is more than than average 1.9 km total average."
   ]
  },
  {
   "cell_type": "markdown",
   "metadata": {},
   "source": [
    "**Breakdown of user types by ride duration**"
   ]
  },
  {
   "cell_type": "code",
   "execution_count": 55,
   "metadata": {},
   "outputs": [
    {
     "data": {
      "text/plain": [
       "Text(0.5, 1.0, 'Breakdown of User Types by Ride Duration (mins)')"
      ]
     },
     "execution_count": 55,
     "metadata": {},
     "output_type": "execute_result"
    },
    {
     "data": {
      "image/png": "[encoded data removed]",
      "text/plain": [
       "<Figure size 720x360 with 1 Axes>"
      ]
     },
     "metadata": {},
     "output_type": "display_data"
    }
   ],
   "source": [
    "# returns breakdown of user type by duration\n",
    "sns.barplot(x='user_type',  y='duration_min', data=df_Ford_Go_Bike_2017_2020_Master_CLEAN_v5)\n",
    "plt.title('Breakdown of User Types by Ride Duration (mins)', weight='bold', size=14)\n"
   ]
  },
  {
   "cell_type": "markdown",
   "metadata": {},
   "source": [
    "***Comment(s):*** When it comes to the duration of rides it appears that customers spend twice as long on their rides than subscribers, this is not a surprise majority of subscribers will be commuters whereas customers are more leisure riders and go out for longer."
   ]
  },
  {
   "cell_type": "markdown",
   "metadata": {},
   "source": [
    "**Comparison of user types user type usage by month**"
   ]
  },
  {
   "cell_type": "code",
   "execution_count": 56,
   "metadata": {},
   "outputs": [
    {
     "data": {
      "image/png": "[encoded data removed]",
      "text/plain": [
       "<Figure size 984.963x360 with 1 Axes>"
      ]
     },
     "metadata": {},
     "output_type": "display_data"
    }
   ],
   "source": [
    "# returns breakdown of customers vs subsribers by month\n",
    "g = sns.catplot(data=df_Ford_Go_Bike_2017_2020_Master_CLEAN_v5, x='start_month', hue='user_type', kind='count',aspect=20.7/8.27, color=base_color,\n",
    "                palette='viridis_r')\n",
    "\n",
    "g.set_axis_labels('Day', 'Rides Count')\n",
    "g._legend.set_title('User Type')\n",
    "g.fig.suptitle('Breakdown of Customers vs Subscribers usage by month', fontsize=14, fontweight='bold');"
   ]
  },
  {
   "cell_type": "markdown",
   "metadata": {},
   "source": [
    "***Comment(s):*** Subscribers have by far the greater amount of usage throughout the year with October seeing the most hires for subscribers whereas February saw the highest for customers."
   ]
  },
  {
   "cell_type": "markdown",
   "metadata": {},
   "source": [
    "<ul>\n",
    "<li><a href=\"#home\">Go to TOC </a></li>\n",
    "</ul>   "
   ]
  },
  {
   "cell_type": "markdown",
   "metadata": {},
   "source": [
    "#### Talk about some of the relationships you observed in this part of the investigation. How did the feature(s) of interest vary with other features in the dataset?\n",
    "\n",
    "> The features were pretty much what I expected and did not vary that much with other features of the dataset.  "
   ]
  },
  {
   "cell_type": "markdown",
   "metadata": {},
   "source": [
    "#### Did you observe any interesting relationships between the other features (not the main feature(s) of interest)?\n",
    "\n",
    "> I found it interesting that customers in total travel further and longer than subscribers."
   ]
  },
  {
   "cell_type": "markdown",
   "metadata": {},
   "source": [
    "<a id='multivariate'></a>\n",
    "### <font color =\"purple\"> MULTIVARIATE EXPLORATION\n",
    "\n",
    "> Create plots of three or more variables to investigate your data even\n",
    "further. Make sure that your investigations are justified, and follow from\n",
    "your work in the previous sections."
   ]
  },
  {
   "cell_type": "markdown",
   "metadata": {},
   "source": [
    "<ul>\n",
    "<li><a href=\"#home\">Go to TOC </a></li>\n",
    "</ul>   "
   ]
  },
  {
   "cell_type": "markdown",
   "metadata": {},
   "source": [
    "**Comparison of user types user type usage by distance**\n"
   ]
  },
  {
   "cell_type": "code",
   "execution_count": 69,
   "metadata": {},
   "outputs": [
    {
     "data": {
      "image/png": "[encoded data removed]",
      "text/plain": [
       "<Figure size 1138.5x360 with 1 Axes>"
      ]
     },
     "metadata": {},
     "output_type": "display_data"
    }
   ],
   "source": [
    "# returns breakdown of customer vs subsribers trip duration per year\n",
    "ax = sns.catplot(data=df_Ford_Go_Bike_2017_2020_Master_CLEAN_v5, x='user_type', y=\"duration_min\", hue=\"year\", kind=\"violin\", height=5, aspect=3)\n",
    "\n",
    "ax.set_axis_labels(\"User Type\", \"Trip duration (min)\")\n",
    "ax._legend.set_title('Year')\n",
    "ax.fig.suptitle('Trip Duration for Each User Type Based on User type', fontweight='bold', fontsize=14);"
   ]
  },
  {
   "cell_type": "markdown",
   "metadata": {},
   "source": [
    "***Comment(s):*** Comparing the the two user types you can see that subscribers are more consistent in the duration of their bike hires whilst customers vary slighlty more but they have a hire trip duration than subsribers in all four years."
   ]
  },
  {
   "cell_type": "markdown",
   "metadata": {},
   "source": [
    "<ul>\n",
    "<li><a href=\"#home\">Go to TOC </a></li>\n",
    "</ul>   "
   ]
  },
  {
   "cell_type": "markdown",
   "metadata": {},
   "source": [
    "#### Talk about some of the relationships you observed in this part of the investigation. Were there features that strengthened each other in terms of looking at your feature(s) of interest?\n",
    "\n",
    "> I struggled to plot more than one multivariate chart that would give me a good insight into relationships due to the fact that the dataset was not comprehensive enough in terms of correlations for multi variables.\n",
    "\n",
    "#### Were there any interesting or surprising interactions between features?\n",
    "\n",
    "> I did not encounter any surprising interactions between features."
   ]
  },
  {
   "cell_type": "markdown",
   "metadata": {},
   "source": [
    "<ul>\n",
    "<li><a href=\"#home\"> ...END...  go to beginning </a></li>\n",
    "</ul>    "
   ]
  },
  {
   "cell_type": "code",
   "execution_count": null,
   "metadata": {},
   "outputs": [],
   "source": []
  }
 ],
 "metadata": {
  "kernelspec": {
   "display_name": "Python 3",
   "language": "python",
   "name": "python3"
  },
  "language_info": {
   "codemirror_mode": {
    "name": "ipython",
    "version": 3
   },
   "file_extension": ".py",
   "mimetype": "text/x-python",
   "name": "python",
   "nbconvert_exporter": "python",
   "pygments_lexer": "ipython3",
   "version": "3.7.1"
  }
 },
 "nbformat": 4,
 "nbformat_minor": 2
}
